{
  "cells": [
    {
      "cell_type": "code",
      "execution_count": 1,
      "metadata": {
        "id": "CurJU6vs9ZPr"
      },
      "outputs": [],
      "source": [
        "# from google.colab import drive\n",
        "# drive.mount('/gdrive')"
      ]
    },
    {
      "cell_type": "markdown",
      "metadata": {
        "id": "RoUR8k75CALF"
      },
      "source": [
        "## Import Statement"
      ]
    },
    {
      "cell_type": "code",
      "execution_count": 2,
      "metadata": {
        "colab": {
          "base_uri": "https://localhost:8080/"
        },
        "id": "u84ANfbIB_QM",
        "outputId": "4a1857a9-3350-42d6-b500-ef30ceb5eb94"
      },
      "outputs": [
        {
          "output_type": "stream",
          "name": "stdout",
          "text": [
            "torch version 2.5.1+cu121\n",
            "PIL version 11.0.0\n",
            "Device cuda\n"
          ]
        }
      ],
      "source": [
        "import numpy as np\n",
        "import matplotlib.pyplot as plt\n",
        "import pandas as pd\n",
        "\n",
        "import torch\n",
        "from torch import nn\n",
        "from torch import optim\n",
        "from torch.utils.data import DataLoader\n",
        "import torch.nn.functional as F\n",
        "from torchvision import datasets , transforms\n",
        "from torch.optim import lr_scheduler\n",
        "\n",
        "from tqdm import tqdm\n",
        "\n",
        "import random\n",
        "import PIL\n",
        "from PIL import Image\n",
        "\n",
        "from torch.autograd import Variable\n",
        "from collections import OrderedDict\n",
        "import math\n",
        "from pathlib import Path\n",
        "device = (\"cuda\" if torch.cuda.is_available() else \"cpu\")\n",
        "print(f\"torch version {torch.__version__}\\nPIL version {PIL.__version__}\\nDevice {device}\")\n"
      ]
    },
    {
      "cell_type": "markdown",
      "metadata": {
        "id": "DpcABW81CuM4"
      },
      "source": [
        "## Objective\n",
        "1. Get more than 85% accuracy\n",
        "2. Less then 200k  parameter\n",
        "3. Use Data Augmentation\n",
        "4. Use Depthwise Separable Convolution\n",
        "5. Use Dilated Convolution"
      ]
    },
    {
      "cell_type": "markdown",
      "metadata": {
        "id": "xkCtM8WBDlec"
      },
      "source": [
        "## Dataset"
      ]
    },
    {
      "cell_type": "markdown",
      "metadata": {
        "id": "c6rm08Z1DwfE"
      },
      "source": [
        "### Mean and Std calculation for Normalization"
      ]
    },
    {
      "cell_type": "code",
      "execution_count": 3,
      "metadata": {
        "colab": {
          "base_uri": "https://localhost:8080/"
        },
        "id": "V9ipmMLSBwjn",
        "outputId": "a54f64a7-6f37-4bdd-e574-b05d7cadd7c0"
      },
      "outputs": [
        {
          "output_type": "stream",
          "name": "stdout",
          "text": [
            "Downloading https://www.cs.toronto.edu/~kriz/cifar-10-python.tar.gz to data/cifar-10-python.tar.gz\n"
          ]
        },
        {
          "output_type": "stream",
          "name": "stderr",
          "text": [
            "100%|██████████| 170M/170M [00:05<00:00, 30.5MB/s]\n"
          ]
        },
        {
          "output_type": "stream",
          "name": "stdout",
          "text": [
            "Extracting data/cifar-10-python.tar.gz to data/\n",
            "\n",
            "Mean is [125.30691805 122.95039414 113.86538318]\n",
            "Std dev is  [62.99321928 62.08870764 66.70489964]\n"
          ]
        }
      ],
      "source": [
        "dataset = datasets.CIFAR10(train=True,root=\"data/\" , download=True)\n",
        "mean = np.mean(dataset.data ,axis=(0,1,2))\n",
        "std = np.std(dataset.data ,axis=(0,1,2))\n",
        "print(f\"\\nMean is {mean}\\nStd dev is  {std}\")"
      ]
    },
    {
      "cell_type": "code",
      "source": [
        "!pip install -U albumentations"
      ],
      "metadata": {
        "colab": {
          "base_uri": "https://localhost:8080/"
        },
        "id": "zkqgKKdbDHK8",
        "outputId": "aacc56ad-7531-4f01-9ad9-662fe1baab29"
      },
      "execution_count": 4,
      "outputs": [
        {
          "output_type": "stream",
          "name": "stdout",
          "text": [
            "Requirement already satisfied: albumentations in /usr/local/lib/python3.10/dist-packages (1.4.20)\n",
            "Collecting albumentations\n",
            "  Downloading albumentations-1.4.23-py3-none-any.whl.metadata (36 kB)\n",
            "Requirement already satisfied: numpy>=1.24.4 in /usr/local/lib/python3.10/dist-packages (from albumentations) (1.26.4)\n",
            "Requirement already satisfied: scipy>=1.10.0 in /usr/local/lib/python3.10/dist-packages (from albumentations) (1.13.1)\n",
            "Requirement already satisfied: PyYAML in /usr/local/lib/python3.10/dist-packages (from albumentations) (6.0.2)\n",
            "Requirement already satisfied: pydantic>=2.9.2 in /usr/local/lib/python3.10/dist-packages (from albumentations) (2.10.3)\n",
            "Collecting albucore==0.0.21 (from albumentations)\n",
            "  Downloading albucore-0.0.21-py3-none-any.whl.metadata (5.3 kB)\n",
            "Requirement already satisfied: eval-type-backport in /usr/local/lib/python3.10/dist-packages (from albumentations) (0.2.0)\n",
            "Requirement already satisfied: opencv-python-headless>=4.9.0.80 in /usr/local/lib/python3.10/dist-packages (from albumentations) (4.10.0.84)\n",
            "Requirement already satisfied: stringzilla>=3.10.4 in /usr/local/lib/python3.10/dist-packages (from albucore==0.0.21->albumentations) (3.11.1)\n",
            "Collecting simsimd>=5.9.2 (from albucore==0.0.21->albumentations)\n",
            "  Downloading simsimd-6.2.1-cp310-cp310-manylinux_2_28_x86_64.whl.metadata (66 kB)\n",
            "\u001b[2K     \u001b[90m━━━━━━━━━━━━━━━━━━━━━━━━━━━━━━━━━━━━━━━━\u001b[0m \u001b[32m66.0/66.0 kB\u001b[0m \u001b[31m4.4 MB/s\u001b[0m eta \u001b[36m0:00:00\u001b[0m\n",
            "\u001b[?25hRequirement already satisfied: annotated-types>=0.6.0 in /usr/local/lib/python3.10/dist-packages (from pydantic>=2.9.2->albumentations) (0.7.0)\n",
            "Requirement already satisfied: pydantic-core==2.27.1 in /usr/local/lib/python3.10/dist-packages (from pydantic>=2.9.2->albumentations) (2.27.1)\n",
            "Requirement already satisfied: typing-extensions>=4.12.2 in /usr/local/lib/python3.10/dist-packages (from pydantic>=2.9.2->albumentations) (4.12.2)\n",
            "Downloading albumentations-1.4.23-py3-none-any.whl (269 kB)\n",
            "\u001b[2K   \u001b[90m━━━━━━━━━━━━━━━━━━━━━━━━━━━━━━━━━━━━━━━━\u001b[0m \u001b[32m269.9/269.9 kB\u001b[0m \u001b[31m14.9 MB/s\u001b[0m eta \u001b[36m0:00:00\u001b[0m\n",
            "\u001b[?25hDownloading albucore-0.0.21-py3-none-any.whl (12 kB)\n",
            "Downloading simsimd-6.2.1-cp310-cp310-manylinux_2_28_x86_64.whl (632 kB)\n",
            "\u001b[2K   \u001b[90m━━━━━━━━━━━━━━━━━━━━━━━━━━━━━━━━━━━━━━━━\u001b[0m \u001b[32m632.7/632.7 kB\u001b[0m \u001b[31m31.0 MB/s\u001b[0m eta \u001b[36m0:00:00\u001b[0m\n",
            "\u001b[?25hInstalling collected packages: simsimd, albucore, albumentations\n",
            "  Attempting uninstall: albucore\n",
            "    Found existing installation: albucore 0.0.19\n",
            "    Uninstalling albucore-0.0.19:\n",
            "      Successfully uninstalled albucore-0.0.19\n",
            "  Attempting uninstall: albumentations\n",
            "    Found existing installation: albumentations 1.4.20\n",
            "    Uninstalling albumentations-1.4.20:\n",
            "      Successfully uninstalled albumentations-1.4.20\n",
            "Successfully installed albucore-0.0.21 albumentations-1.4.23 simsimd-6.2.1\n"
          ]
        }
      ]
    },
    {
      "cell_type": "code",
      "source": [
        "import albumentations as A\n",
        "from albumentations.pytorch import ToTensorV2"
      ],
      "metadata": {
        "id": "LsdD970bDMhi"
      },
      "execution_count": 5,
      "outputs": []
    },
    {
      "cell_type": "code",
      "source": [
        "# # Calculate the mean of CIFAR-10 dataset (mean and std of CIFAR-10 dataset)\n",
        "# mean = [0.4914, 0.4822, 0.4465]  # Mean of CIFAR-10 images (RGB)\n",
        "# std = [0.2470, 0.2435, 0.2616]   # Standard deviation of CIFAR-10 images (RGB)\n",
        "\n",
        "# Define Albumentations transform pipeline\n",
        "transform = A.Compose([\n",
        "    A.HorizontalFlip(p=0.5),  # Horizontal flip with 50% probability\n",
        "    A.ShiftScaleRotate(\n",
        "        shift_limit=0.0625,  # Horizontal/vertical shift in range [-0.0625, 0.0625]\n",
        "        scale_limit=0.1,     # Scale factor range: [1-0.1, 1+0.1]\n",
        "        rotate_limit=15,     # Rotate range in degrees\n",
        "        p=0.2                # Apply with 70% probability\n",
        "    ),\n",
        "    A.CoarseDropout(\n",
        "        max_holes=1,          # Maximum number of holes to drop\n",
        "        max_height=16,        # Maximum height of the holes\n",
        "        max_width=16,         # Maximum width of the holes\n",
        "        min_holes=1,          # Minimum number of holes to drop\n",
        "        min_height=16,        # Minimum height of the holes\n",
        "        min_width=16,         # Minimum width of the holes\n",
        "        fill_value=mean,      # Fill the dropout area with the mean of the dataset\n",
        "        mask_fill_value=None, # No mask fill (optional)\n",
        "        p=0.2                 # Apply with 20% probability\n",
        "    ),\n",
        "    A.Normalize((0.5, 0.5, 0.5), (0.5, 0.5, 0.5)) ,\n",
        "    ToTensorV2(),\n",
        "       # Convert image to a PyTorch tensor\n",
        "])\n",
        "\n",
        "# Custom Dataset class to use Albumentations with CIFAR-10\n",
        "class AlbumentationsCIFAR10(datasets.CIFAR10):\n",
        "    def __init__(self, root, train=True, transform=None, target_transform=None, download=False):\n",
        "        super().__init__(root, train=train, transform=None, target_transform=target_transform, download=download)  # Set transform to None here\n",
        "        self.albumentations_transform = transform\n",
        "\n",
        "    def __getitem__(self, index):\n",
        "        img, target = super().__getitem__(index)\n",
        "        if self.albumentations_transform:\n",
        "            img = np.array(img)  # Convert PIL image to numpy array\n",
        "            img = self.albumentations_transform(image=img)['image']  # Apply Albumentations\n",
        "        else:\n",
        "            if self.transform is not None:  # Apply torchvision transforms if albumentations is not used\n",
        "                img = self.transform(img)\n",
        "        return img, target\n",
        "\n",
        "# Load CIFAR-10 dataset and apply the Albumentations transform\n",
        "train_dataset = AlbumentationsCIFAR10(root='./data', train=True, transform=transform, download=True)\n",
        "test_dataset = datasets.CIFAR10(root='./data', train=False, transform=transforms.ToTensor(), download=True)\n",
        "\n",
        "# Create DataLoader for batch processing\n",
        "train_loader = DataLoader(train_dataset, batch_size=64, shuffle=True)\n",
        "test_loader = DataLoader(test_dataset, batch_size=64, shuffle=False)\n",
        "\n",
        "# Example of how to iterate over the DataLoader\n",
        "for images, labels in train_loader:\n",
        "    # Your training loop here\n",
        "    print(images.shape)  # Should be (batch_size, 3, 32, 32)\n",
        "    break"
      ],
      "metadata": {
        "colab": {
          "base_uri": "https://localhost:8080/"
        },
        "id": "GHAsawRTDSEI",
        "outputId": "dbe06345-eb4a-4610-cede-9a931d219a46"
      },
      "execution_count": 6,
      "outputs": [
        {
          "output_type": "stream",
          "name": "stderr",
          "text": [
            "<ipython-input-6-1d829b32f9b7>:14: UserWarning: Argument 'fill_value' is not valid and will be ignored.\n",
            "  A.CoarseDropout(\n",
            "<ipython-input-6-1d829b32f9b7>:14: UserWarning: Argument 'mask_fill_value' is not valid and will be ignored.\n",
            "  A.CoarseDropout(\n"
          ]
        },
        {
          "output_type": "stream",
          "name": "stdout",
          "text": [
            "Files already downloaded and verified\n",
            "Files already downloaded and verified\n",
            "torch.Size([64, 3, 32, 32])\n"
          ]
        }
      ]
    },
    {
      "cell_type": "code",
      "source": [
        "def denormalize(image):\n",
        "  mean = torch.tensor([0.5, 0.5, 0.5])\n",
        "  std = torch.tensor([0.5, 0.5, 0.5])\n",
        "  image = image.clone().detach().to(\"cpu\") # take out of computational graph\n",
        "  image = image.squeeze()\n",
        "  image = image.permute(1,2,0) # channel swapping H*W*C\n",
        "  image.mul_(std).add_(mean) # denormalize\n",
        "\n",
        "  return image.numpy()"
      ],
      "metadata": {
        "id": "yUrowvDdFKwj"
      },
      "execution_count": 7,
      "outputs": []
    },
    {
      "cell_type": "markdown",
      "source": [
        "### Augmentation Visualization\n",
        "side by side comparison of original Image and augmented Image"
      ],
      "metadata": {
        "id": "ER3P_GKdGVDK"
      }
    },
    {
      "cell_type": "code",
      "source": [
        "def show_img(ax,img,text):\n",
        "  ax.set_xticks([])\n",
        "  ax.set_yticks([])\n",
        "  ax.grid(False)\n",
        "  ax.imshow(img)\n",
        "  ax.set_title(text.title())\n",
        "\n",
        "def visualizeAugmentation(augSet , normalset , no_of_images=8):\n",
        "  \"\"\"\n",
        "    Visualizing Augmentation with normal set\n",
        "    :augset : Augmented dataset\n",
        "    :normalset :Normal dataset with no Augmentation\n",
        "  \"\"\"\n",
        "  fig = plt.figure(figsize=(no_of_images*2,4))\n",
        "\n",
        "  l = [x for x in range(1,2*no_of_images+1)] #indexing purpose\n",
        "\n",
        "  for i in range(no_of_images):\n",
        "\n",
        "    ax  = fig.add_subplot(2,no_of_images,l[::2][i]) #odd numbers\n",
        "    ax2 = fig.add_subplot(2,no_of_images,l[1::2][i]) #even numbers\n",
        "\n",
        "    show_img(ax , normalset[i][0],f\"ori___{normalset.classes[normalset[i][1]]}\")\n",
        "    show_img(ax2 , denormalize(augSet[i][0]) , f\"aug___{augSet.classes[augSet[i][1]]}\")\n",
        "\n",
        "visualizeAugmentation(train_dataset , dataset,no_of_images=20)"
      ],
      "metadata": {
        "colab": {
          "base_uri": "https://localhost:8080/",
          "height": 135
        },
        "id": "zA2z9D5OFBxd",
        "outputId": "f2c4a9cd-6531-49dd-c1ca-41cd1f0fb18e"
      },
      "execution_count": 8,
      "outputs": [
        {
          "output_type": "display_data",
          "data": {
            "text/plain": [
              "<Figure size 4000x400 with 40 Axes>"
            ],
            "image/png": "[encoded data removed]"
          },
          "metadata": {}
        }
      ]
    },
    {
      "cell_type": "code",
      "source": [
        "# Load CIFAR-10 dataset and apply the Albumentations transform\n",
        "mean = torch.tensor([0.5, 0.5, 0.5])\n",
        "std = torch.tensor([0.5, 0.5, 0.5])\n",
        "test_transforms = transforms.Compose([transforms.ToTensor() ,\n",
        "                                     transforms.Normalize(mean=mean , std=std)\n",
        "                                    ])\n",
        "# train_dataset = AlbumentationsCIFAR10(root='./data', train=True, transform=transform, download=True)\n",
        "train_dataset = AlbumentationsCIFAR10(root='./data', train=True, transform=transform, download=True)\n",
        "test_dataset = datasets.CIFAR10(root='./data', train=False, transform=test_transforms, download=True)\n",
        "\n",
        "# Create DataLoader for batch processing\n",
        "train_loader = DataLoader(train_dataset, batch_size=64, shuffle=True)\n",
        "test_loader = DataLoader(test_dataset, batch_size=64, shuffle=False)"
      ],
      "metadata": {
        "colab": {
          "base_uri": "https://localhost:8080/"
        },
        "id": "hMqMUjVOFKB1",
        "outputId": "b9337cbb-bf15-4847-eff1-24d6694a8ba8"
      },
      "execution_count": 9,
      "outputs": [
        {
          "output_type": "stream",
          "name": "stdout",
          "text": [
            "Files already downloaded and verified\n",
            "Files already downloaded and verified\n"
          ]
        }
      ]
    },
    {
      "cell_type": "code",
      "source": [
        "n_samples = 0\n",
        "for inputs, _ in tqdm(train_loader, desc=\"Calculating Mean and Std\", total=len(train_loader)):\n",
        "    # Accumulate sum and square sum for each channel\n",
        "    batch_samples = inputs.size(0)  # Number of images in the batch\n",
        "    inputs = inputs.numpy()  # Convert to numpy for easier manipulation\n",
        "\n",
        "    mean += np.sum(inputs, axis=(0, 2, 3))  # Sum over batch and spatial dimensions\n",
        "    std += np.sum(inputs**2, axis=(0, 2, 3))  # Sum of squared values over batch and spatial dimensions\n",
        "\n",
        "    n_samples += batch_samples\n",
        "\n",
        "# Finalize the mean and std by dividing by the number of samples\n",
        "mean /= (n_samples * 32 * 32)  # 32x32 is the image size for CIFAR-10\n",
        "std = np.sqrt(std / (n_samples * 32 * 32) - mean**2)  # Apply formula for std\n",
        "\n",
        "print(f\"Calculated mean: {mean}\")\n",
        "print(f\"Calculated std: {std}\")"
      ],
      "metadata": {
        "colab": {
          "base_uri": "https://localhost:8080/"
        },
        "id": "z3qZHyJVdZeV",
        "outputId": "5121630a-4ee4-425a-ef5f-22e53982ce71"
      },
      "execution_count": 10,
      "outputs": [
        {
          "output_type": "stream",
          "name": "stderr",
          "text": [
            "Calculating Mean and Std: 100%|██████████| 782/782 [00:30<00:00, 25.81it/s]"
          ]
        },
        {
          "output_type": "stream",
          "name": "stdout",
          "text": [
            "Calculated mean: tensor([-0.0668, -0.0832, -0.1509])\n",
            "Calculated std: tensor([0.5256, 0.5178, 0.5449])\n"
          ]
        },
        {
          "output_type": "stream",
          "name": "stderr",
          "text": [
            "\n"
          ]
        }
      ]
    },
    {
      "cell_type": "code",
      "source": [
        "n_samples = 0\n",
        "for inputs, _ in tqdm(test_loader, desc=\"Calculating Mean and Std\", total=len(test_loader)):\n",
        "    # Accumulate sum and square sum for each channel\n",
        "    batch_samples = inputs.size(0)  # Number of images in the batch\n",
        "    inputs = inputs.numpy()  # Convert to numpy for easier manipulation\n",
        "\n",
        "    mean += np.sum(inputs, axis=(0, 2, 3))  # Sum over batch and spatial dimensions\n",
        "    std += np.sum(inputs**2, axis=(0, 2, 3))  # Sum of squared values over batch and spatial dimensions\n",
        "\n",
        "    n_samples += batch_samples\n",
        "\n",
        "# Finalize the mean and std by dividing by the number of samples\n",
        "mean /= (n_samples * 32 * 32)  # 32x32 is the image size for CIFAR-10\n",
        "std = np.sqrt(std / (n_samples * 32 * 32) - mean**2)  # Apply formula for std\n",
        "\n",
        "print(f\"Calculated mean: {mean}\")\n",
        "print(f\"Calculated std: {std}\")"
      ],
      "metadata": {
        "colab": {
          "base_uri": "https://localhost:8080/"
        },
        "id": "h4AMXwGwdhzK",
        "outputId": "c2bc41ab-29a4-4803-c7bd-a003442d963f"
      },
      "execution_count": 11,
      "outputs": [
        {
          "output_type": "stream",
          "name": "stderr",
          "text": [
            "Calculating Mean and Std: 100%|██████████| 157/157 [00:02<00:00, 54.57it/s]"
          ]
        },
        {
          "output_type": "stream",
          "name": "stdout",
          "text": [
            "Calculated mean: tensor([-0.0116, -0.0297, -0.0992])\n",
            "Calculated std: tensor([0.4933, 0.4858, 0.5232])\n"
          ]
        },
        {
          "output_type": "stream",
          "name": "stderr",
          "text": [
            "\n"
          ]
        }
      ]
    },
    {
      "cell_type": "code",
      "source": [
        "next(iter(train_loader))"
      ],
      "metadata": {
        "colab": {
          "base_uri": "https://localhost:8080/"
        },
        "id": "js7DSYFpbRIy",
        "outputId": "52a44f2b-f377-4e50-e23b-fd9f26db7a96"
      },
      "execution_count": 12,
      "outputs": [
        {
          "output_type": "execute_result",
          "data": {
            "text/plain": [
              "[tensor([[[[ 0.2863,  0.2941,  0.3490,  ...,  0.1294,  0.1137,  0.0980],\n",
              "           [ 0.2235,  0.1922,  0.3412,  ...,  0.1216,  0.1059,  0.0980],\n",
              "           [ 0.2549,  0.1294,  0.2863,  ...,  0.1137,  0.0980,  0.0902],\n",
              "           ...,\n",
              "           [ 0.0039, -0.0118, -0.0196,  ..., -0.0510, -0.0824, -0.0118],\n",
              "           [-0.0275, -0.0275, -0.0588,  ..., -0.0039, -0.0588, -0.0980],\n",
              "           [-0.0275, -0.0667, -0.1216,  ...,  0.0902,  0.0588, -0.0353]],\n",
              " \n",
              "          [[ 0.3647,  0.3725,  0.4353,  ...,  0.2157,  0.1922,  0.1843],\n",
              "           [ 0.2941,  0.2706,  0.4275,  ...,  0.2314,  0.2157,  0.2000],\n",
              "           [ 0.3255,  0.2000,  0.3569,  ...,  0.2392,  0.2235,  0.2078],\n",
              "           ...,\n",
              "           [-0.0745, -0.0824, -0.0902,  ..., -0.0902, -0.1216, -0.0510],\n",
              "           [-0.1137, -0.1137, -0.1529,  ..., -0.0510, -0.1059, -0.1451],\n",
              "           [-0.1059, -0.1529, -0.2314,  ...,  0.0118, -0.0196, -0.1216]],\n",
              " \n",
              "          [[ 0.5843,  0.5529,  0.5843,  ...,  0.4824,  0.4667,  0.4510],\n",
              "           [ 0.5216,  0.4745,  0.6078,  ...,  0.5137,  0.4980,  0.4824],\n",
              "           [ 0.5529,  0.4275,  0.5843,  ...,  0.5216,  0.5059,  0.4980],\n",
              "           ...,\n",
              "           [-0.1843, -0.1922, -0.2000,  ..., -0.2392, -0.2863, -0.2471],\n",
              "           [-0.2314, -0.2392, -0.2784,  ..., -0.2157, -0.2706, -0.3255],\n",
              "           [-0.2235, -0.2941, -0.3882,  ..., -0.1608, -0.1765, -0.2471]]],\n",
              " \n",
              " \n",
              "         [[[-0.7255, -0.7255, -0.7176,  ..., -0.7333, -0.7176, -0.7020],\n",
              "           [-0.7020, -0.7020, -0.7020,  ..., -0.7176, -0.7020, -0.6863],\n",
              "           [-0.6784, -0.6784, -0.6784,  ..., -0.6941, -0.6863, -0.6706],\n",
              "           ...,\n",
              "           [-0.0431, -0.0431, -0.0431,  ..., -0.1294, -0.1216, -0.1059],\n",
              "           [-0.0196, -0.0039, -0.0039,  ..., -0.1843, -0.1843, -0.1686],\n",
              "           [-0.0353, -0.0275, -0.0275,  ..., -0.1765, -0.1843, -0.1765]],\n",
              " \n",
              "          [[-0.2627, -0.2549, -0.2471,  ..., -0.2784, -0.2863, -0.2863],\n",
              "           [-0.2471, -0.2392, -0.2392,  ..., -0.2784, -0.2863, -0.2784],\n",
              "           [-0.2235, -0.2157, -0.2157,  ..., -0.2627, -0.2706, -0.2706],\n",
              "           ...,\n",
              "           [-0.0039, -0.0118, -0.0118,  ..., -0.1373, -0.1373, -0.1216],\n",
              "           [ 0.0196,  0.0196,  0.0275,  ..., -0.1608, -0.1608, -0.1529],\n",
              "           [ 0.0039,  0.0039,  0.0039,  ..., -0.1529, -0.1686, -0.1529]],\n",
              " \n",
              "          [[ 0.2941,  0.3020,  0.3098,  ...,  0.2235,  0.2157,  0.2314],\n",
              "           [ 0.3020,  0.3098,  0.3098,  ...,  0.2314,  0.2235,  0.2392],\n",
              "           [ 0.3333,  0.3333,  0.3333,  ...,  0.2627,  0.2549,  0.2706],\n",
              "           ...,\n",
              "           [-0.0980, -0.1216, -0.1216,  ..., -0.2627, -0.2549, -0.2392],\n",
              "           [-0.0745, -0.0902, -0.0824,  ..., -0.2549, -0.2471, -0.2392],\n",
              "           [-0.0902, -0.1059, -0.1059,  ..., -0.2471, -0.2471, -0.2392]]],\n",
              " \n",
              " \n",
              "         [[[ 0.0196,  0.0745, -0.1686,  ..., -0.8118, -0.8039, -0.7098],\n",
              "           [-0.0980,  0.0667, -0.0824,  ..., -0.8353, -0.8118, -0.7647],\n",
              "           [-0.1294, -0.0118, -0.0431,  ..., -0.8275, -0.7882, -0.8196],\n",
              "           ...,\n",
              "           [ 0.1765,  0.3804, -0.1529,  ..., -0.4510, -0.4980, -0.4902],\n",
              "           [ 0.0824,  0.2471,  0.4275,  ..., -0.4510, -0.4980, -0.5059],\n",
              "           [-0.1294, -0.2392, -0.1294,  ..., -0.3255, -0.3490, -0.3255]],\n",
              " \n",
              "          [[-0.0118,  0.0353, -0.2314,  ..., -0.8667, -0.8588, -0.7961],\n",
              "           [-0.1216,  0.0353, -0.1373,  ..., -0.9059, -0.8745, -0.8431],\n",
              "           [-0.1451, -0.0196, -0.1059,  ..., -0.9059, -0.8510, -0.8745],\n",
              "           ...,\n",
              "           [-0.1451,  0.1059, -0.2941,  ..., -0.5373, -0.5686, -0.6000],\n",
              "           [-0.0667,  0.0588,  0.1922,  ..., -0.5137, -0.5373, -0.6078],\n",
              "           [-0.1843, -0.3020, -0.2235,  ..., -0.4275, -0.4353, -0.4353]],\n",
              " \n",
              "          [[-0.0039,  0.0510, -0.2157,  ..., -0.9059, -0.8824, -0.8353],\n",
              "           [-0.0980,  0.0745, -0.1294,  ..., -0.9529, -0.8980, -0.8745],\n",
              "           [-0.1216,  0.0039, -0.1216,  ..., -0.9608, -0.8745, -0.8824],\n",
              "           ...,\n",
              "           [-0.3333, -0.0118, -0.3333,  ..., -0.5451, -0.5843, -0.6392],\n",
              "           [-0.1294, -0.0039,  0.0745,  ..., -0.5451, -0.5765, -0.6706],\n",
              "           [-0.2000, -0.3255, -0.2627,  ..., -0.4510, -0.4510, -0.4980]]],\n",
              " \n",
              " \n",
              "         ...,\n",
              " \n",
              " \n",
              "         [[[ 0.9451,  0.8902,  0.8824,  ...,  0.5843,  0.4902,  0.5137],\n",
              "           [ 0.9843,  0.9137,  0.8824,  ...,  0.6000,  0.4980,  0.4980],\n",
              "           [ 0.9686,  0.9137,  0.8902,  ...,  0.6627,  0.5529,  0.5216],\n",
              "           ...,\n",
              "           [ 0.2471,  0.0902, -0.2314,  ..., -0.0039, -0.0118,  0.0039],\n",
              "           [ 0.1451,  0.0275, -0.0745,  ..., -0.0118, -0.0039,  0.0196],\n",
              "           [ 0.0980,  0.0353, -0.0196,  ..., -0.0510, -0.0588, -0.0431]],\n",
              " \n",
              "          [[ 0.9451,  0.8902,  0.8824,  ...,  0.5686,  0.4745,  0.4980],\n",
              "           [ 0.9843,  0.9137,  0.8824,  ...,  0.5843,  0.4824,  0.4824],\n",
              "           [ 0.9686,  0.9137,  0.8902,  ...,  0.6471,  0.5373,  0.5059],\n",
              "           ...,\n",
              "           [ 0.2235,  0.0745, -0.2471,  ..., -0.0353, -0.0431, -0.0275],\n",
              "           [ 0.1216,  0.0118, -0.0902,  ..., -0.0118, -0.0118,  0.0118],\n",
              "           [ 0.0824,  0.0196, -0.0353,  ..., -0.0667, -0.0745, -0.0588]],\n",
              " \n",
              "          [[ 0.9451,  0.8902,  0.8824,  ...,  0.5922,  0.4980,  0.5216],\n",
              "           [ 0.9843,  0.9137,  0.8824,  ...,  0.6078,  0.5059,  0.5059],\n",
              "           [ 0.9686,  0.9137,  0.8902,  ...,  0.6627,  0.5608,  0.5294],\n",
              "           ...,\n",
              "           [ 0.2706,  0.1059, -0.2392,  ..., -0.0196, -0.0353, -0.0196],\n",
              "           [ 0.1686,  0.0431, -0.0745,  ..., -0.0039, -0.0039,  0.0196],\n",
              "           [ 0.1137,  0.0431, -0.0118,  ..., -0.0431, -0.0510, -0.0353]]],\n",
              " \n",
              " \n",
              "         [[[-0.3255, -0.3412, -0.3725,  ...,  0.1608,  0.3020,  0.0902],\n",
              "           [-0.2784, -0.3333, -0.3647,  ...,  0.2627,  0.2863,  0.0824],\n",
              "           [-0.3098, -0.3412, -0.3569,  ...,  0.2314,  0.2157, -0.0588],\n",
              "           ...,\n",
              "           [-0.2706, -0.2627, -0.1373,  ..., -0.1216, -0.1608, -0.2235],\n",
              "           [-0.3647, -0.4431, -0.3020,  ..., -0.2314, -0.1294, -0.1216],\n",
              "           [-0.0667, -0.4510, -0.4902,  ...,  0.0039,  0.1216,  0.0431]],\n",
              " \n",
              "          [[-0.7333, -0.7098, -0.7490,  ...,  0.0745,  0.1922, -0.0039],\n",
              "           [-0.7098, -0.7020, -0.7412,  ...,  0.1373,  0.1608, -0.0196],\n",
              "           [-0.7176, -0.7098, -0.7412,  ...,  0.0980,  0.0902, -0.1529],\n",
              "           ...,\n",
              "           [-0.4588, -0.3961, -0.2549,  ..., -0.2000, -0.2471, -0.3725],\n",
              "           [-0.6157, -0.5608, -0.3804,  ..., -0.2706, -0.2000, -0.2627],\n",
              "           [-0.4980, -0.6078, -0.5451,  ..., -0.0039,  0.0824, -0.0431]],\n",
              " \n",
              "          [[-0.7804, -0.7333, -0.7882,  ...,  0.0039,  0.1216, -0.0196],\n",
              "           [-0.7804, -0.7098, -0.7804,  ...,  0.1294,  0.1294, -0.0275],\n",
              "           [-0.7804, -0.7333, -0.7882,  ...,  0.1294,  0.0902, -0.1451],\n",
              "           ...,\n",
              "           [-0.3255, -0.2000, -0.0510,  ..., -0.0510, -0.0980, -0.2157],\n",
              "           [-0.5373, -0.3804, -0.1608,  ..., -0.1451, -0.0824, -0.1059],\n",
              "           [-0.5451, -0.5216, -0.3647,  ...,  0.0824,  0.1529,  0.0824]]],\n",
              " \n",
              " \n",
              "         [[[-0.6784, -0.7255, -0.5294,  ..., -0.4275, -0.4039, -0.3882],\n",
              "           [-0.5686, -0.6706, -0.4353,  ..., -0.4196, -0.4196, -0.4275],\n",
              "           [-0.4745, -0.4431, -0.2157,  ..., -0.4196, -0.4431, -0.4275],\n",
              "           ...,\n",
              "           [-0.5216, -0.6235, -0.7412,  ..., -0.3569, -0.0431,  0.1216],\n",
              "           [-0.6078, -0.7412, -0.7961,  ..., -0.1686, -0.0588,  0.0588],\n",
              "           [-0.5922, -0.6471, -0.6627,  ..., -0.1451, -0.1373, -0.0196]],\n",
              " \n",
              "          [[-0.6078, -0.6706, -0.4510,  ..., -0.2549, -0.2314, -0.2078],\n",
              "           [-0.4980, -0.6078, -0.3412,  ..., -0.2314, -0.2235, -0.2314],\n",
              "           [-0.4039, -0.3647, -0.0980,  ..., -0.2157, -0.2314, -0.2078],\n",
              "           ...,\n",
              "           [-0.4431, -0.5608, -0.6941,  ..., -0.1608,  0.1529,  0.3176],\n",
              "           [-0.5843, -0.7333, -0.7647,  ...,  0.0275,  0.1294,  0.2235],\n",
              "           [-0.6706, -0.6941, -0.6627,  ...,  0.0588,  0.0431,  0.0980]],\n",
              " \n",
              "          [[-0.8431, -0.8275, -0.5843,  ..., -0.4980, -0.4980, -0.5137],\n",
              "           [-0.6863, -0.7569, -0.5294,  ..., -0.5059, -0.5216, -0.5608],\n",
              "           [-0.5294, -0.5294, -0.3490,  ..., -0.5216, -0.5608, -0.5765],\n",
              "           ...,\n",
              "           [-0.5765, -0.6863, -0.8118,  ..., -0.5843, -0.2000,  0.0039],\n",
              "           [-0.7020, -0.8588, -0.8980,  ..., -0.4118, -0.3020, -0.0510],\n",
              "           [-0.7961, -0.8431, -0.7961,  ..., -0.3961, -0.3961, -0.0980]]]]),\n",
              " tensor([4, 0, 6, 7, 0, 3, 4, 2, 8, 3, 0, 1, 2, 0, 7, 3, 3, 0, 9, 9, 0, 2, 3, 3,\n",
              "         8, 9, 3, 8, 6, 6, 0, 3, 3, 5, 6, 9, 7, 8, 2, 6, 3, 3, 9, 0, 9, 5, 7, 3,\n",
              "         4, 7, 2, 4, 9, 1, 2, 3, 9, 7, 6, 5, 1, 1, 5, 6])]"
            ]
          },
          "metadata": {},
          "execution_count": 12
        }
      ]
    },
    {
      "cell_type": "code",
      "source": [
        "next(iter(test_loader))"
      ],
      "metadata": {
        "colab": {
          "base_uri": "https://localhost:8080/"
        },
        "id": "huidV-FmbKCa",
        "outputId": "3ca2a990-cd9b-4168-98b9-bfffaf643213"
      },
      "execution_count": 13,
      "outputs": [
        {
          "output_type": "execute_result",
          "data": {
            "text/plain": [
              "[tensor([[[[ 0.2392,  0.2471,  0.2941,  ...,  0.0745, -0.0118, -0.0902],\n",
              "           [ 0.1922,  0.1843,  0.2471,  ...,  0.0667, -0.0196, -0.0667],\n",
              "           [ 0.1843,  0.1843,  0.2392,  ...,  0.0902,  0.0196, -0.0588],\n",
              "           ...,\n",
              "           [-0.4667, -0.6706, -0.7569,  ..., -0.7020, -0.8980, -0.6863],\n",
              "           [-0.5216, -0.6157, -0.7255,  ..., -0.7961, -0.7725, -0.8431],\n",
              "           [-0.5765, -0.5608, -0.6471,  ..., -0.8118, -0.7333, -0.8353]],\n",
              " \n",
              "          [[-0.1216, -0.1294, -0.0902,  ..., -0.2549, -0.2863, -0.3333],\n",
              "           [-0.1216, -0.1373, -0.1059,  ..., -0.2549, -0.2863, -0.3098],\n",
              "           [-0.1373, -0.1451, -0.1294,  ..., -0.2314, -0.2549, -0.3020],\n",
              "           ...,\n",
              "           [-0.0275, -0.2157, -0.3098,  ..., -0.2392, -0.4980, -0.3333],\n",
              "           [-0.0902, -0.2000, -0.3333,  ..., -0.3569, -0.3569, -0.4980],\n",
              "           [-0.1608, -0.1765, -0.3020,  ..., -0.3961, -0.3412, -0.4745]],\n",
              " \n",
              "          [[-0.6157, -0.6314, -0.6000,  ..., -0.7176, -0.7176, -0.7412],\n",
              "           [-0.6000, -0.6863, -0.6471,  ..., -0.7569, -0.7490, -0.7333],\n",
              "           [-0.6314, -0.7412, -0.7176,  ..., -0.7333, -0.7333, -0.7412],\n",
              "           ...,\n",
              "           [ 0.3882,  0.1608,  0.0745,  ...,  0.1451, -0.1529, -0.0039],\n",
              "           [ 0.3176,  0.1608,  0.0353,  ...,  0.0196, -0.0118, -0.1608],\n",
              "           [ 0.2549,  0.1686,  0.0353,  ..., -0.0275,  0.0118, -0.1373]]],\n",
              " \n",
              " \n",
              "         [[[ 0.8431,  0.8118,  0.8196,  ...,  0.8275,  0.8275,  0.8196],\n",
              "           [ 0.8667,  0.8431,  0.8431,  ...,  0.8510,  0.8510,  0.8431],\n",
              "           [ 0.8588,  0.8353,  0.8353,  ...,  0.8431,  0.8431,  0.8353],\n",
              "           ...,\n",
              "           [-0.3176, -0.6627, -0.8510,  ...,  0.3255,  0.4275,  0.4745],\n",
              "           [-0.3569, -0.6392, -0.7176,  ...,  0.3647,  0.4510,  0.4667],\n",
              "           [-0.3333, -0.5137, -0.5451,  ...,  0.3176,  0.4118,  0.4588]],\n",
              " \n",
              "          [[ 0.8431,  0.8118,  0.8196,  ...,  0.8275,  0.8275,  0.8196],\n",
              "           [ 0.8667,  0.8431,  0.8431,  ...,  0.8510,  0.8510,  0.8431],\n",
              "           [ 0.8588,  0.8353,  0.8353,  ...,  0.8431,  0.8431,  0.8353],\n",
              "           ...,\n",
              "           [-0.2235, -0.6000, -0.8196,  ...,  0.4431,  0.5451,  0.5843],\n",
              "           [-0.2471, -0.5529, -0.6549,  ...,  0.4824,  0.5686,  0.5843],\n",
              "           [-0.2078, -0.4118, -0.4745,  ...,  0.4353,  0.5294,  0.5686]],\n",
              " \n",
              "          [[ 0.8431,  0.8118,  0.8196,  ...,  0.8275,  0.8275,  0.8196],\n",
              "           [ 0.8667,  0.8431,  0.8431,  ...,  0.8510,  0.8510,  0.8431],\n",
              "           [ 0.8588,  0.8353,  0.8353,  ...,  0.8431,  0.8431,  0.8353],\n",
              "           ...,\n",
              "           [-0.3020, -0.7098, -0.9137,  ...,  0.4039,  0.5137,  0.5765],\n",
              "           [-0.3569, -0.7176, -0.8275,  ...,  0.4353,  0.5373,  0.5686],\n",
              "           [-0.3490, -0.6235, -0.7020,  ...,  0.3961,  0.4980,  0.5608]]],\n",
              " \n",
              " \n",
              "         [[[ 0.2392,  0.2392,  0.0902,  ...,  0.7882,  0.8588,  0.8667],\n",
              "           [ 0.3333,  0.3490,  0.1843,  ...,  0.8196,  0.9294,  0.9294],\n",
              "           [ 0.3647,  0.3804,  0.2314,  ...,  0.8039,  0.9608,  0.9216],\n",
              "           ...,\n",
              "           [-0.7569, -0.7647, -0.7961,  ..., -0.7098, -0.9294, -0.9686],\n",
              "           [-0.8196, -0.7882, -0.8039,  ..., -0.8510, -0.9686, -0.9608],\n",
              "           [-0.7804, -0.7647, -0.7490,  ..., -0.9608, -0.9686, -0.9451]],\n",
              " \n",
              "          [[ 0.4902,  0.4667,  0.3020,  ...,  0.8118,  0.8745,  0.8902],\n",
              "           [ 0.5686,  0.5608,  0.3804,  ...,  0.8196,  0.9294,  0.9373],\n",
              "           [ 0.5765,  0.5686,  0.4039,  ...,  0.7961,  0.9529,  0.9137],\n",
              "           ...,\n",
              "           [-0.6863, -0.6941, -0.7255,  ..., -0.6863, -0.8980, -0.9451],\n",
              "           [-0.7333, -0.7020, -0.7176,  ..., -0.8431, -0.9529, -0.9451],\n",
              "           [-0.6784, -0.6627, -0.6471,  ..., -0.9529, -0.9608, -0.9373]],\n",
              " \n",
              "          [[ 0.7412,  0.7098,  0.5216,  ...,  0.8353,  0.9059,  0.9294],\n",
              "           [ 0.7961,  0.7725,  0.5765,  ...,  0.8510,  0.9608,  0.9686],\n",
              "           [ 0.7647,  0.7412,  0.5608,  ...,  0.8196,  0.9686,  0.9373],\n",
              "           ...,\n",
              "           [-0.6471, -0.6549, -0.6863,  ..., -0.6392, -0.8902, -0.9608],\n",
              "           [-0.6941, -0.6627, -0.6784,  ..., -0.8118, -0.9765, -0.9765],\n",
              "           [-0.6314, -0.6078, -0.5922,  ..., -0.9373, -0.9765, -0.9451]]],\n",
              " \n",
              " \n",
              "         ...,\n",
              " \n",
              " \n",
              "         [[[-0.9216, -0.9216, -0.9216,  ...,  0.3098,  0.3412,  0.3647],\n",
              "           [-0.9216, -0.9216, -0.9216,  ...,  0.3333,  0.3647,  0.3804],\n",
              "           [-0.9216, -0.9216, -0.9216,  ...,  0.3255,  0.3569,  0.3804],\n",
              "           ...,\n",
              "           [-0.3333, -0.7490, -0.7961,  ...,  0.3333,  0.2314,  0.1216],\n",
              "           [-0.7569, -0.8510, -0.6314,  ...,  0.1294,  0.0039, -0.1216],\n",
              "           [-0.8980, -0.7804, -0.2549,  ..., -0.1216, -0.0824, -0.0039]],\n",
              " \n",
              "          [[-0.9216, -0.9216, -0.9216,  ...,  0.0667,  0.1059,  0.1294],\n",
              "           [-0.9216, -0.9216, -0.9216,  ...,  0.0902,  0.1294,  0.1451],\n",
              "           [-0.9216, -0.9216, -0.9216,  ...,  0.0902,  0.1216,  0.1451],\n",
              "           ...,\n",
              "           [-0.4510, -0.7333, -0.7882,  ...,  0.1137,  0.0196, -0.0745],\n",
              "           [-0.7725, -0.8431, -0.7176,  ..., -0.0745, -0.2000, -0.2941],\n",
              "           [-0.8588, -0.7882, -0.4039,  ..., -0.3176, -0.2706, -0.1765]],\n",
              " \n",
              "          [[-0.9216, -0.9216, -0.9216,  ..., -0.1765, -0.1608, -0.1451],\n",
              "           [-0.9216, -0.9216, -0.9216,  ..., -0.1686, -0.1529, -0.1373],\n",
              "           [-0.9216, -0.9216, -0.9216,  ..., -0.1765, -0.1529, -0.1373],\n",
              "           ...,\n",
              "           [-0.5294, -0.8510, -0.9059,  ..., -0.0824, -0.1608, -0.2314],\n",
              "           [-0.8196, -0.9137, -0.8667,  ..., -0.2549, -0.3647, -0.4588],\n",
              "           [-0.8745, -0.8353, -0.5765,  ..., -0.4745, -0.4353, -0.3569]]],\n",
              " \n",
              " \n",
              "         [[[-1.0000, -1.0000, -0.9765,  ..., -0.8118, -0.5059, -0.5137],\n",
              "           [-0.9686, -0.9765, -0.9922,  ..., -0.9451, -0.6000, -0.4431],\n",
              "           [-0.9686, -0.9686, -0.9765,  ..., -0.9765, -0.6392, -0.4039],\n",
              "           ...,\n",
              "           [-0.8980, -0.9608, -0.9686,  ..., -0.2549, -0.1686, -0.1765],\n",
              "           [-0.7098, -0.2471, -0.3804,  ..., -0.6549, -0.5922, -0.7412],\n",
              "           [-0.4902,  0.0275,  0.0667,  ..., -0.7961, -0.4431, -0.2314]],\n",
              " \n",
              "          [[-0.6000, -0.6314, -0.5843,  ..., -0.6627, -0.2627, -0.2314],\n",
              "           [-0.6784, -0.6549, -0.6235,  ..., -0.8510, -0.3725, -0.1765],\n",
              "           [-0.8902, -0.8588, -0.8353,  ..., -0.9294, -0.4275, -0.1451],\n",
              "           ...,\n",
              "           [-0.8196, -0.9137, -0.9451,  ...,  0.0118,  0.0824,  0.0353],\n",
              "           [-0.5843, -0.1686, -0.3569,  ..., -0.3176, -0.2941, -0.4667],\n",
              "           [-0.3176,  0.1059,  0.1529,  ..., -0.4745, -0.2549, -0.0667]],\n",
              " \n",
              "          [[-0.9922, -0.9608, -0.9765,  ..., -0.9137, -0.8667, -0.8745],\n",
              "           [-0.9294, -0.9294, -0.9765,  ..., -0.9373, -0.8745, -0.8196],\n",
              "           [-0.9451, -0.9529, -0.9529,  ..., -0.9451, -0.8039, -0.7569],\n",
              "           ...,\n",
              "           [-0.8196, -0.8667, -0.8824,  ..., -0.6314, -0.5608, -0.5294],\n",
              "           [-0.6392, -0.1922, -0.3255,  ..., -0.9059, -0.9137, -0.9608],\n",
              "           [-0.5216, -0.0118,  0.0667,  ..., -0.9216, -0.5843, -0.3098]]],\n",
              " \n",
              " \n",
              "         [[[ 0.8275,  0.5765,  0.7020,  ..., -0.2549, -0.2941, -0.3176],\n",
              "           [ 0.8118,  0.5608,  0.6706,  ..., -0.2549, -0.2941, -0.3098],\n",
              "           [ 0.8353,  0.5843,  0.7020,  ..., -0.2471, -0.2863, -0.3020],\n",
              "           ...,\n",
              "           [ 0.1686,  0.1922,  0.2000,  ..., -0.1294, -0.4275, -0.5451],\n",
              "           [ 0.1451,  0.1686,  0.1922,  ..., -0.0902, -0.1294, -0.4353],\n",
              "           [ 0.0902,  0.1216,  0.1373,  ..., -0.0588, -0.0902, -0.1529]],\n",
              " \n",
              "          [[ 0.7647,  0.3333,  0.5294,  ..., -0.3961, -0.4431, -0.4824],\n",
              "           [ 0.7412,  0.3176,  0.4980,  ..., -0.3961, -0.4431, -0.4745],\n",
              "           [ 0.7569,  0.3333,  0.5216,  ..., -0.3882, -0.4431, -0.4667],\n",
              "           ...,\n",
              "           [ 0.1922,  0.2157,  0.2157,  ..., -0.0980, -0.5137, -0.6863],\n",
              "           [ 0.1686,  0.1922,  0.2157,  ..., -0.0196, -0.1059, -0.5059],\n",
              "           [ 0.1137,  0.1451,  0.1608,  ..., -0.0118, -0.0118, -0.1059]],\n",
              " \n",
              "          [[ 0.6392, -0.0353,  0.2471,  ..., -0.7490, -0.7961, -0.8275],\n",
              "           [ 0.6000, -0.0745,  0.2000,  ..., -0.7569, -0.7961, -0.8275],\n",
              "           [ 0.6157, -0.0588,  0.2235,  ..., -0.7490, -0.8039, -0.8196],\n",
              "           ...,\n",
              "           [ 0.1216,  0.1451,  0.1529,  ..., -0.1608, -0.6863, -0.9451],\n",
              "           [ 0.0902,  0.1137,  0.1373,  ..., -0.0588, -0.1294, -0.6549],\n",
              "           [ 0.0275,  0.0588,  0.0745,  ..., -0.0824, -0.0588, -0.1608]]]]),\n",
              " tensor([3, 8, 8, 0, 6, 6, 1, 6, 3, 1, 0, 9, 5, 7, 9, 8, 5, 7, 8, 6, 7, 0, 4, 9,\n",
              "         5, 2, 4, 0, 9, 6, 6, 5, 4, 5, 9, 2, 4, 1, 9, 5, 4, 6, 5, 6, 0, 9, 3, 9,\n",
              "         7, 6, 9, 8, 0, 3, 8, 8, 7, 7, 4, 6, 7, 3, 6, 3])]"
            ]
          },
          "metadata": {},
          "execution_count": 13
        }
      ]
    },
    {
      "cell_type": "markdown",
      "metadata": {
        "id": "EXFkZ-XZjz7Z"
      },
      "source": [
        "### Transformation and Dataset Defination"
      ]
    },
    {
      "cell_type": "code",
      "execution_count": 14,
      "metadata": {
        "id": "S57jbekEGyae"
      },
      "outputs": [],
      "source": [
        "# train_transforms = transforms.Compose([transforms.RandomCrop(size=32 , padding=4 , padding_mode=\"symmetric\",pad_if_needed=True),\n",
        "#                                        transforms.RandomHorizontalFlip(p=0.5),\n",
        "#                                        transforms.ToTensor(),\n",
        "#                                        #transforms.Normalize(mean = mean , std=std)\n",
        "#                                       ])\n",
        "\n",
        "# val_transforms = transforms.Compose([transforms.ToTensor() ,\n",
        "#                                      #transforms.Normalize(mean=mean , std=std)\n",
        "#                                     ])\n",
        "\n",
        "# mean = torch.from_numpy(mean).type(torch.float32)\n",
        "# std = torch.from_numpy(std).type(torch.float32)\n",
        "\n",
        "# def denormalize(image):\n",
        "#   image = image.clone().detach().to(\"cpu\") # take out of computational graph\n",
        "#   image = image.squeeze()\n",
        "#   image = image.permute(1,2,0) # channel swapping H*W*C\n",
        "#  # image.mul_(std).add_(mean) # denormalize\n",
        "\n",
        "#   return image.numpy()\n",
        "\n",
        "# trainset = datasets.CIFAR10(train=True,root=\"data/\" , download=True,transform=train_transforms)\n",
        "# valset  = datasets.CIFAR10(train=False,root=\"data/\" , download=True,transform=val_transforms)"
      ]
    },
    {
      "cell_type": "code",
      "source": [],
      "metadata": {
        "id": "7JTRs3OgDGY6"
      },
      "execution_count": 14,
      "outputs": []
    },
    {
      "cell_type": "code",
      "source": [],
      "metadata": {
        "id": "SNNb7zDJDGeU"
      },
      "execution_count": 14,
      "outputs": []
    },
    {
      "cell_type": "markdown",
      "metadata": {
        "id": "8a7ZC9HY4Bbk"
      },
      "source": [
        "## Utility Func"
      ]
    },
    {
      "cell_type": "markdown",
      "metadata": {
        "id": "ql3sBtzE4Dz0"
      },
      "source": [
        "###  No grad\n"
      ]
    },
    {
      "cell_type": "code",
      "execution_count": 15,
      "metadata": {
        "id": "4rEkwJ5WmNFC"
      },
      "outputs": [],
      "source": [
        "from functools import wraps\n",
        "\n",
        "def no_grad(func):\n",
        "  @wraps(func)\n",
        "  def wrapper(*args,**kwargs):\n",
        "    with torch.no_grad():\n",
        "      return func(*args,**kwargs)\n",
        "  return wrapper"
      ]
    },
    {
      "cell_type": "markdown",
      "metadata": {
        "id": "Hm7Xe4gn4GLD"
      },
      "source": [
        "### Save Checkpoint"
      ]
    },
    {
      "cell_type": "code",
      "execution_count": 16,
      "metadata": {
        "id": "ZjY8ffh94Gw1"
      },
      "outputs": [],
      "source": [
        "def save_checkpoint(epoch, epochs_since_improvement, model, optimizer,loss, best_loss, is_best,filepath=None):\n",
        "    \"\"\"\n",
        "    Save model checkpoint.\n",
        "\n",
        "    :param epoch: epoch number\n",
        "    :param epochs_since_improvement: number of epochs since last improvement\n",
        "    :param model: model\n",
        "    :param optimizer: optimizer\n",
        "    :param loss: validation loss in this epoch\n",
        "    :param best_loss: best validation loss achieved so far (not necessarily in this checkpoint)\n",
        "    :param is_best: is this checkpoint the best so far?\n",
        "    \"\"\"\n",
        "    state = {'epoch': epoch,\n",
        "             'epochs_since_improvement': epochs_since_improvement,\n",
        "             'loss': loss,\n",
        "             'best_loss': best_loss,\n",
        "             'model': model.state_dict(),\n",
        "             'optimizer': optimizer.state_dict()}\n",
        "    filename = Path(\"./convnet/checkpoint.pt\") if filepath is None else filepath\n",
        "    is_best = is_best if filepath is None else False\n",
        "    torch.save(state, filename)\n",
        "    # If this checkpoint is the best so far, store a copy so it doesn't get overwritten by a worse checkpoint\n",
        "    if is_best:\n",
        "        torch.save(state,   Path(\"./convnet/BEST_checkpoint.pt\"))"
      ]
    },
    {
      "cell_type": "markdown",
      "metadata": {
        "id": "jBrxPkHlkNfO"
      },
      "source": [
        "## Model Definition"
      ]
    },
    {
      "cell_type": "markdown",
      "metadata": {
        "id": "DQsGHwv64OfL"
      },
      "source": [
        "### Calculate Summary"
      ]
    },
    {
      "cell_type": "code",
      "execution_count": 17,
      "metadata": {
        "id": "AZzF95NljYAL"
      },
      "outputs": [],
      "source": [
        "@no_grad\n",
        "def summary(model, input_size, batch_size=-1, device=\"cuda\"):\n",
        "\n",
        "    def register_hook(module):\n",
        "\n",
        "        def hook(module, input, output):\n",
        "            class_name = str(module.__class__).split(\".\")[-1].split(\"'\")[0]\n",
        "            module_idx = len(summary)\n",
        "\n",
        "            m_key = \"%s-%i\" % (class_name, module_idx + 1)\n",
        "            summary[m_key] = OrderedDict()\n",
        "            summary[m_key][\"input_shape\"] = list(input[0].size())\n",
        "            summary[m_key][\"input_shape\"][0] = batch_size\n",
        "            if isinstance(output, (list, tuple)):\n",
        "                summary[m_key][\"output_shape\"] = [\n",
        "                    [-1] + list(o.size())[1:] for o in output\n",
        "                ]\n",
        "            else:\n",
        "                summary[m_key][\"output_shape\"] = list(output.size())\n",
        "                summary[m_key][\"output_shape\"][0] = batch_size\n",
        "\n",
        "            params = 0\n",
        "            if hasattr(module, \"weight\") and hasattr(module.weight, \"size\"):\n",
        "                params += torch.prod(torch.LongTensor(list(module.weight.size())))\n",
        "                summary[m_key][\"trainable\"] = module.weight.requires_grad\n",
        "            if hasattr(module, \"bias\") and hasattr(module.bias, \"size\"):\n",
        "                params += torch.prod(torch.LongTensor(list(module.bias.size())))\n",
        "            summary[m_key][\"nb_params\"] = params\n",
        "\n",
        "        if (\n",
        "            not isinstance(module, nn.Sequential)\n",
        "            and not isinstance(module, nn.ModuleList)\n",
        "            and not (module == model)\n",
        "        ):\n",
        "            hooks.append(module.register_forward_hook(hook))\n",
        "\n",
        "    device = device.lower()\n",
        "    assert device in [\n",
        "        \"cuda\",\n",
        "        \"cpu\",\n",
        "    ], \"Input device is not valid, please specify 'cuda' or 'cpu'\"\n",
        "\n",
        "    if device == \"cuda\" and torch.cuda.is_available():\n",
        "        dtype = torch.cuda.FloatTensor\n",
        "    else:\n",
        "        dtype = torch.FloatTensor\n",
        "\n",
        "    # multiple inputs to the network\n",
        "    if isinstance(input_size, tuple):\n",
        "        input_size = [input_size]\n",
        "\n",
        "    # batch_size of 2 for batchnorm\n",
        "    x = [torch.rand(2, *in_size).type(dtype) for in_size in input_size]\n",
        "    # print(type(x[0]))\n",
        "\n",
        "    # create properties\n",
        "    summary = OrderedDict()\n",
        "    hooks = []\n",
        "    model = model.to(device)\n",
        "    # register hook\n",
        "    model.apply(register_hook)\n",
        "\n",
        "    # make a forward pass\n",
        "    # print(x.shape)\n",
        "    model(*x)\n",
        "\n",
        "    # remove these hooks\n",
        "    for h in hooks:\n",
        "        h.remove()\n",
        "\n",
        "    print(\"----------------------------------------------------------------\")\n",
        "    line_new = \"{:>20}  {:>25} {:>15}\".format(\"Layer (type)\", \"Output Shape\", \"Param #\")\n",
        "    print(line_new)\n",
        "    print(\"================================================================\")\n",
        "    total_params = 0\n",
        "    total_output = 0\n",
        "    trainable_params = 0\n",
        "    for layer in summary:\n",
        "        # input_shape, output_shape, trainable, nb_params\n",
        "        line_new = \"{:>20}  {:>25} {:>15}\".format(\n",
        "            layer,\n",
        "            str(summary[layer][\"output_shape\"]),\n",
        "            \"{0:,}\".format(summary[layer][\"nb_params\"]),\n",
        "        )\n",
        "        total_params += summary[layer][\"nb_params\"]\n",
        "        total_output += np.prod(summary[layer][\"output_shape\"])\n",
        "        if \"trainable\" in summary[layer]:\n",
        "            if summary[layer][\"trainable\"] == True:\n",
        "                trainable_params += summary[layer][\"nb_params\"]\n",
        "        print(line_new)\n",
        "\n",
        "    # assume 4 bytes/number (float on cuda).\n",
        "    total_input_size = abs(np.prod(input_size) * batch_size * 4. / (1024 ** 2.))\n",
        "    total_output_size = abs(2. * total_output * 4. / (1024 ** 2.))  # x2 for gradients\n",
        "    total_params_size = abs(total_params.numpy() * 4. / (1024 ** 2.))\n",
        "    total_size = total_params_size + total_output_size + total_input_size\n",
        "\n",
        "    del model\n",
        "\n",
        "    print(\"================================================================\")\n",
        "    print(\"Total params: {0:,}\".format(total_params))\n",
        "    print(\"Trainable params: {0:,}\".format(trainable_params))\n",
        "    print(\"Non-trainable params: {0:,}\".format(total_params - trainable_params))\n",
        "    print(\"----------------------------------------------------------------\")\n",
        "    print(\"Input size (MB): %0.2f\" % total_input_size)\n",
        "    print(\"Forward/backward pass size (MB): %0.2f\" % total_output_size)\n",
        "    print(\"Params size (MB): %0.2f\" % total_params_size)\n",
        "    print(\"Estimated Total Size (MB): %0.2f\" % total_size)\n",
        "    print(\"----------------------------------------------------------------\")\n",
        "    return total_params"
      ]
    },
    {
      "cell_type": "code",
      "source": [],
      "metadata": {
        "id": "pL_wnU8fGbhO"
      },
      "execution_count": 17,
      "outputs": []
    },
    {
      "cell_type": "markdown",
      "source": [
        "# Custom ConvNet"
      ],
      "metadata": {
        "id": "5WozYFPTGdul"
      }
    },
    {
      "cell_type": "code",
      "source": [
        "\n",
        "# import torch\n",
        "# import torch.nn as nn\n",
        "\n",
        "# # Define the ConvBlock class\n",
        "# class ConvBlock(nn.Module):\n",
        "#     def __init__(self, in_channels, out_channels):\n",
        "#         super(ConvBlock, self).__init__()\n",
        "\n",
        "#         # Conv1 -> BatchNorm -> ReLU\n",
        "#         self.conv1 = nn.Conv2d(in_channels, out_channels, kernel_size=3, stride=1, padding=1)\n",
        "#         self.bn1 = nn.BatchNorm2d(out_channels)\n",
        "#         self.relu1 = nn.ReLU(inplace=True)\n",
        "\n",
        "#         # Conv2 -> BatchNorm -> ReLU\n",
        "#         self.conv2 = nn.Conv2d(out_channels, out_channels, kernel_size=3, stride=1, padding=1)\n",
        "#         self.bn2 = nn.BatchNorm2d(out_channels)\n",
        "#         self.relu2 = nn.ReLU(inplace=True)\n",
        "\n",
        "#         # Conv3 -> BatchNorm -> ReLU\n",
        "#         self.conv3 = nn.Conv2d(out_channels, out_channels, kernel_size=3, stride=2, padding=1)\n",
        "#         self.bn3 = nn.BatchNorm2d(out_channels)\n",
        "#         self.relu3 = nn.ReLU(inplace=True)\n",
        "\n",
        "#     def forward(self, x):\n",
        "#         # Apply Conv1 -> BatchNorm -> ReLU\n",
        "#         x = self.relu1(self.bn1(self.conv1(x)))\n",
        "\n",
        "#         # Apply Conv2 -> BatchNorm -> ReLU\n",
        "#         x = self.relu2(self.bn2(self.conv2(x)))\n",
        "\n",
        "#         # Apply Conv3 -> BatchNorm -> ReLU\n",
        "#         x = self.relu3(self.bn3(self.conv3(x)))\n",
        "\n",
        "#         return x\n",
        "\n",
        "# # Define the Transition Block class\n",
        "# class TransitionBlock(nn.Module):\n",
        "#     def __init__(self, in_channels, out_channels, dropout_prob=0.01, last_block=False):\n",
        "#         super(TransitionBlock, self).__init__()\n",
        "\n",
        "#         # 1x1 Convolution to reduce the number of channels\n",
        "#         self.conv = nn.Conv2d(in_channels, out_channels, kernel_size=1, stride=1)\n",
        "\n",
        "#         if not last_block:\n",
        "#             # Apply BatchNorm and ReLU, unless it's the last transition block\n",
        "#             self.bn = nn.BatchNorm2d(out_channels)\n",
        "#             self.relu = nn.ReLU(inplace=True)\n",
        "\n",
        "#             # Dropout layer (only applied after transition blocks except the last)\n",
        "#             self.dropout = nn.Dropout(p=dropout_prob)\n",
        "#         else:\n",
        "#             # No BatchNorm or ReLU for the last transition block\n",
        "#             self.bn = None\n",
        "#             self.relu = None\n",
        "#             self.dropout = None\n",
        "\n",
        "#     def forward(self, x):\n",
        "#         # Apply 1x1 Conv\n",
        "#         x = self.conv(x)\n",
        "\n",
        "#         if self.bn is not None:\n",
        "#             # Apply BatchNorm\n",
        "#             x = self.bn(x)\n",
        "\n",
        "#         if self.relu is not None:\n",
        "#             # Apply ReLU\n",
        "#             x = self.relu(x)\n",
        "\n",
        "#         if self.dropout is not None:\n",
        "#             # Apply Dropout\n",
        "#             x = self.dropout(x)\n",
        "\n",
        "#         return x\n",
        "\n",
        "# # Define the CIFARModel with ConvBlock, TransitionBlock, and Dropout\n",
        "# class CIFARModel(nn.Module):\n",
        "#     def __init__(self, num_classes=10, dropout_prob=0.01):\n",
        "#         super(CIFARModel, self).__init__()\n",
        "\n",
        "#         # Convolutional Blocks: 4 Blocks, each having 3 conv layers with BatchNorm and ReLU\n",
        "#         self.block1 = ConvBlock(in_channels=3, out_channels=64)\n",
        "#         self.transition1 = TransitionBlock(in_channels=64, out_channels=32, dropout_prob=dropout_prob)\n",
        "\n",
        "#         self.block2 = ConvBlock(in_channels=32, out_channels=64)\n",
        "#         self.transition2 = TransitionBlock(in_channels=64, out_channels=32, dropout_prob=dropout_prob)\n",
        "\n",
        "#         self.block3 = ConvBlock(in_channels=32, out_channels=64)\n",
        "#         self.transition3 = TransitionBlock(in_channels=64, out_channels=32, dropout_prob=dropout_prob)\n",
        "\n",
        "#         self.block4 = ConvBlock(in_channels=32, out_channels=64)\n",
        "#         self.transition4 = TransitionBlock(in_channels=64, out_channels=64, dropout_prob=0.0, last_block=True)  # No BatchNorm or ReLU\n",
        "\n",
        "#         # Global Average Pooling (GAP)\n",
        "#         self.gap = nn.AdaptiveAvgPool2d(1)\n",
        "\n",
        "#         # Classification Layer: num_classes for flexible output\n",
        "#         self.fc = nn.Linear(64, num_classes)  # `num_classes` can be any number\n",
        "\n",
        "#     def forward(self, x):\n",
        "#         # Pass through ConvBlock and TransitionBlock\n",
        "#         x = self.block1(x)\n",
        "#         x = self.transition1(x)\n",
        "\n",
        "#         x = self.block2(x)\n",
        "#         x = self.transition2(x)\n",
        "\n",
        "#         x = self.block3(x)\n",
        "#         x = self.transition3(x)\n",
        "\n",
        "#         x = self.block4(x)\n",
        "#         x = self.transition4(x)\n",
        "\n",
        "#         # Apply Global Average Pooling\n",
        "#         x = self.gap(x)\n",
        "\n",
        "#         # Flatten the output of GAP\n",
        "#         x = torch.flatten(x, 1)  # Flatten to shape (batch_size, 512)\n",
        "\n",
        "#         # Fully connected layer for final classification\n",
        "#         x = self.fc(x)\n",
        "\n",
        "#         return x\n",
        "\n",
        "\n"
      ],
      "metadata": {
        "id": "I3Jd1KRXGhK8"
      },
      "execution_count": 18,
      "outputs": []
    },
    {
      "cell_type": "code",
      "source": [
        "import torch\n",
        "import torch.nn as nn\n",
        "\n",
        "# Depthwise Separable Convolution\n",
        "class DepthwiseSeparableConv2d(nn.Module):\n",
        "    def __init__(self, in_channels, out_channels, kernel_size=3, stride=1, padding=1):\n",
        "        super(DepthwiseSeparableConv2d, self).__init__()\n",
        "\n",
        "        # Depthwise Convolution (each input channel has its own filter)\n",
        "        self.depthwise = nn.Conv2d(in_channels, in_channels, kernel_size=kernel_size, stride=stride, padding=padding, groups=in_channels)\n",
        "\n",
        "        # Pointwise Convolution (1x1 convolution to mix channels)\n",
        "        self.pointwise = nn.Conv2d(in_channels, out_channels, kernel_size=1)\n",
        "\n",
        "        # BatchNorm and ReLU (for standardization)\n",
        "        self.bn = nn.BatchNorm2d(out_channels)\n",
        "        self.relu = nn.ReLU(inplace=True)\n",
        "\n",
        "    def forward(self, x):\n",
        "        # Apply depthwise convolution\n",
        "        x = self.depthwise(x)\n",
        "\n",
        "        # Apply pointwise convolution\n",
        "        x = self.pointwise(x)\n",
        "\n",
        "        # Apply BatchNorm and ReLU\n",
        "        x = self.bn(x)\n",
        "        x = self.relu(x)\n",
        "\n",
        "        return x\n",
        "\n",
        "# Dilated Convolution Block\n",
        "class DilatedConv2d(nn.Module):\n",
        "    def __init__(self, in_channels, out_channels, kernel_size=3, stride=1, padding=2, dilation=2):\n",
        "        super(DilatedConv2d, self).__init__()\n",
        "\n",
        "        # Dilated Convolution with a specified dilation rate\n",
        "        self.conv = nn.Conv2d(in_channels, out_channels, kernel_size=kernel_size, stride=stride, padding=padding, dilation=dilation)\n",
        "\n",
        "        # BatchNorm and ReLU (for standardization)\n",
        "        self.bn = nn.BatchNorm2d(out_channels)\n",
        "        self.relu = nn.ReLU(inplace=True)\n",
        "\n",
        "    def forward(self, x):\n",
        "        # Apply Dilated Convolution\n",
        "        x = self.conv(x)\n",
        "\n",
        "        # Apply BatchNorm and ReLU\n",
        "        x = self.bn(x)\n",
        "        x = self.relu(x)\n",
        "\n",
        "        return x\n",
        "\n",
        "# Define the ConvBlock class with Depthwise Separable Convolution and Dilated Convolution\n",
        "class ConvBlock(nn.Module):\n",
        "    def __init__(self, in_channels, out_channels, use_depthwise=False, use_dilated=False):\n",
        "        super(ConvBlock, self).__init__()\n",
        "\n",
        "        # Conv1 -> BatchNorm -> ReLU\n",
        "        self.conv1 = nn.Conv2d(in_channels, out_channels, kernel_size=3, stride=1, padding=1)\n",
        "        self.bn1 = nn.BatchNorm2d(out_channels)\n",
        "        self.relu1 = nn.ReLU(inplace=True)\n",
        "\n",
        "        # Conv2 -> BatchNorm -> ReLU (this will be replaced with a Dilated Conv if use_dilated is True)\n",
        "        if use_dilated:\n",
        "            self.conv2 = DilatedConv2d(out_channels, out_channels, kernel_size=3, stride=1, padding=2, dilation=2)\n",
        "        else:\n",
        "            self.conv2 = nn.Conv2d(out_channels, out_channels, kernel_size=3, stride=1, padding=1)\n",
        "\n",
        "        self.bn2 = nn.BatchNorm2d(out_channels)\n",
        "        self.relu2 = nn.ReLU(inplace=True)\n",
        "\n",
        "        # Conv3 -> BatchNorm -> ReLU (this will be replaced with Depthwise Separable Conv if use_depthwise is True)\n",
        "        if use_depthwise:\n",
        "            self.conv3 = DepthwiseSeparableConv2d(out_channels, out_channels, kernel_size=3, stride=2, padding=1)\n",
        "        else:\n",
        "            self.conv3 = nn.Conv2d(out_channels, out_channels, kernel_size=3, stride=2, padding=1)\n",
        "\n",
        "        self.bn3 = nn.BatchNorm2d(out_channels)\n",
        "        self.relu3 = nn.ReLU(inplace=True)\n",
        "\n",
        "    def forward(self, x):\n",
        "        # Apply Conv1 -> BatchNorm -> ReLU\n",
        "        x = self.relu1(self.bn1(self.conv1(x)))\n",
        "\n",
        "        # Apply Conv2 -> BatchNorm -> ReLU (Dilated or Regular Conv)\n",
        "        x = self.relu2(self.bn2(self.conv2(x)))\n",
        "\n",
        "        # Apply Conv3 -> BatchNorm -> ReLU (Depthwise Separable or Regular Conv)\n",
        "        x = self.relu3(self.bn3(self.conv3(x)))\n",
        "\n",
        "        return x\n",
        "\n",
        "# Define the Transition Block class\n",
        "class TransitionBlock(nn.Module):\n",
        "    def __init__(self, in_channels, out_channels, dropout_prob=0.01, last_block=False):\n",
        "        super(TransitionBlock, self).__init__()\n",
        "\n",
        "        # 1x1 Convolution to reduce the number of channels\n",
        "        self.conv = nn.Conv2d(in_channels, out_channels, kernel_size=1, stride=1)\n",
        "\n",
        "        if not last_block:\n",
        "            # Apply BatchNorm and ReLU, unless it's the last transition block\n",
        "            self.bn = nn.BatchNorm2d(out_channels)\n",
        "            self.relu = nn.ReLU(inplace=True)\n",
        "\n",
        "            # Dropout layer (only applied after transition blocks except the last)\n",
        "            self.dropout = nn.Dropout(p=dropout_prob)\n",
        "        else:\n",
        "            # No BatchNorm or ReLU for the last transition block\n",
        "            self.bn = None\n",
        "            self.relu = None\n",
        "            self.dropout = None\n",
        "\n",
        "    def forward(self, x):\n",
        "        # Apply 1x1 Conv\n",
        "        x = self.conv(x)\n",
        "\n",
        "        if self.bn is not None:\n",
        "            # Apply BatchNorm\n",
        "            x = self.bn(x)\n",
        "\n",
        "        if self.relu is not None:\n",
        "            # Apply ReLU\n",
        "            x = self.relu(x)\n",
        "\n",
        "        if self.dropout is not None:\n",
        "            # Apply Dropout\n",
        "            x = self.dropout(x)\n",
        "\n",
        "        return x\n",
        "\n",
        "# Define the CIFARModel with ConvBlock, TransitionBlock, and Dropout\n",
        "class CIFARModel(nn.Module):\n",
        "    def __init__(self, num_classes=10, dropout_prob=0.01):\n",
        "        super(CIFARModel, self).__init__()\n",
        "\n",
        "        # Convolutional Blocks: 4 Blocks, each having 3 conv layers with BatchNorm and ReLU\n",
        "        self.block1 = ConvBlock(in_channels=3, out_channels=32, use_depthwise=True)\n",
        "        self.transition1 = TransitionBlock(in_channels=32, out_channels=32, dropout_prob=dropout_prob)\n",
        "\n",
        "        self.block2 = ConvBlock(in_channels=32, out_channels=64)\n",
        "        self.transition2 = TransitionBlock(in_channels=64, out_channels=32, dropout_prob=dropout_prob)\n",
        "\n",
        "        self.block3 = ConvBlock(in_channels=32, out_channels=32)\n",
        "        self.transition3 = TransitionBlock(in_channels=32, out_channels=32, dropout_prob=dropout_prob)\n",
        "\n",
        "        self.block4 = ConvBlock(in_channels=32, out_channels=32, use_dilated=True)\n",
        "        self.transition4 = TransitionBlock(in_channels=32, out_channels=64, dropout_prob=0.0, last_block=True)  # No BatchNorm or ReLU\n",
        "\n",
        "        # Global Average Pooling (GAP)\n",
        "        self.gap = nn.AdaptiveAvgPool2d(1)\n",
        "\n",
        "        # Classification Layer: num_classes for flexible output\n",
        "        self.fc = nn.Linear(64, num_classes)  # `num_classes` can be any number\n",
        "\n",
        "    def forward(self, x):\n",
        "        # Pass through ConvBlock and TransitionBlock\n",
        "        x = self.block1(x)\n",
        "        x = self.transition1(x)\n",
        "\n",
        "        x = self.block2(x)\n",
        "        x = self.transition2(x)\n",
        "\n",
        "        x = self.block3(x)\n",
        "        x = self.transition3(x)\n",
        "\n",
        "        x = self.block4(x)\n",
        "        x = self.transition4(x)\n",
        "\n",
        "        # Apply Global Average Pooling\n",
        "        x = self.gap(x)\n",
        "\n",
        "        # Flatten the output of GAP\n",
        "        x = torch.flatten(x, 1)  # Flatten to shape (batch_size, 512)\n",
        "\n",
        "        # Fully connected layer for final classification\n",
        "        x = self.fc(x)\n",
        "\n",
        "        return x\n"
      ],
      "metadata": {
        "id": "ZhWaDyKa4fHe"
      },
      "execution_count": 36,
      "outputs": []
    },
    {
      "cell_type": "code",
      "execution_count": 53,
      "metadata": {
        "colab": {
          "base_uri": "https://localhost:8080/"
        },
        "id": "lRgb94PgGegu",
        "outputId": "167bf846-b1b5-4e86-c5ff-ba70c5d0d0e8"
      },
      "outputs": [
        {
          "output_type": "stream",
          "name": "stdout",
          "text": [
            "----------------------------------------------------------------\n",
            "        Layer (type)               Output Shape         Param #\n",
            "================================================================\n",
            "            Conv2d-1           [-1, 32, 32, 32]             896\n",
            "       BatchNorm2d-2           [-1, 32, 32, 32]              64\n",
            "              ReLU-3           [-1, 32, 32, 32]               0\n",
            "            Conv2d-4           [-1, 32, 32, 32]           9,248\n",
            "       BatchNorm2d-5           [-1, 32, 32, 32]              64\n",
            "              ReLU-6           [-1, 32, 32, 32]               0\n",
            "            Conv2d-7           [-1, 32, 16, 16]             320\n",
            "            Conv2d-8           [-1, 32, 16, 16]           1,056\n",
            "       BatchNorm2d-9           [-1, 32, 16, 16]              64\n",
            "             ReLU-10           [-1, 32, 16, 16]               0\n",
            "DepthwiseSeparableConv2d-11           [-1, 32, 16, 16]               0\n",
            "      BatchNorm2d-12           [-1, 32, 16, 16]              64\n",
            "             ReLU-13           [-1, 32, 16, 16]               0\n",
            "        ConvBlock-14           [-1, 32, 16, 16]               0\n",
            "           Conv2d-15           [-1, 32, 16, 16]           1,056\n",
            "      BatchNorm2d-16           [-1, 32, 16, 16]              64\n",
            "             ReLU-17           [-1, 32, 16, 16]               0\n",
            "          Dropout-18           [-1, 32, 16, 16]               0\n",
            "  TransitionBlock-19           [-1, 32, 16, 16]               0\n",
            "           Conv2d-20           [-1, 64, 16, 16]          18,496\n",
            "      BatchNorm2d-21           [-1, 64, 16, 16]             128\n",
            "             ReLU-22           [-1, 64, 16, 16]               0\n",
            "           Conv2d-23           [-1, 64, 16, 16]          36,928\n",
            "      BatchNorm2d-24           [-1, 64, 16, 16]             128\n",
            "             ReLU-25           [-1, 64, 16, 16]               0\n",
            "           Conv2d-26             [-1, 64, 8, 8]          36,928\n",
            "      BatchNorm2d-27             [-1, 64, 8, 8]             128\n",
            "             ReLU-28             [-1, 64, 8, 8]               0\n",
            "        ConvBlock-29             [-1, 64, 8, 8]               0\n",
            "           Conv2d-30             [-1, 32, 8, 8]           2,080\n",
            "      BatchNorm2d-31             [-1, 32, 8, 8]              64\n",
            "             ReLU-32             [-1, 32, 8, 8]               0\n",
            "          Dropout-33             [-1, 32, 8, 8]               0\n",
            "  TransitionBlock-34             [-1, 32, 8, 8]               0\n",
            "           Conv2d-35             [-1, 32, 8, 8]           9,248\n",
            "      BatchNorm2d-36             [-1, 32, 8, 8]              64\n",
            "             ReLU-37             [-1, 32, 8, 8]               0\n",
            "           Conv2d-38             [-1, 32, 8, 8]           9,248\n",
            "      BatchNorm2d-39             [-1, 32, 8, 8]              64\n",
            "             ReLU-40             [-1, 32, 8, 8]               0\n",
            "           Conv2d-41             [-1, 32, 4, 4]           9,248\n",
            "      BatchNorm2d-42             [-1, 32, 4, 4]              64\n",
            "             ReLU-43             [-1, 32, 4, 4]               0\n",
            "        ConvBlock-44             [-1, 32, 4, 4]               0\n",
            "           Conv2d-45             [-1, 32, 4, 4]           1,056\n",
            "      BatchNorm2d-46             [-1, 32, 4, 4]              64\n",
            "             ReLU-47             [-1, 32, 4, 4]               0\n",
            "          Dropout-48             [-1, 32, 4, 4]               0\n",
            "  TransitionBlock-49             [-1, 32, 4, 4]               0\n",
            "           Conv2d-50             [-1, 32, 4, 4]           9,248\n",
            "      BatchNorm2d-51             [-1, 32, 4, 4]              64\n",
            "             ReLU-52             [-1, 32, 4, 4]               0\n",
            "           Conv2d-53             [-1, 32, 4, 4]           9,248\n",
            "      BatchNorm2d-54             [-1, 32, 4, 4]              64\n",
            "             ReLU-55             [-1, 32, 4, 4]               0\n",
            "    DilatedConv2d-56             [-1, 32, 4, 4]               0\n",
            "      BatchNorm2d-57             [-1, 32, 4, 4]              64\n",
            "             ReLU-58             [-1, 32, 4, 4]               0\n",
            "           Conv2d-59             [-1, 32, 2, 2]           9,248\n",
            "      BatchNorm2d-60             [-1, 32, 2, 2]              64\n",
            "             ReLU-61             [-1, 32, 2, 2]               0\n",
            "        ConvBlock-62             [-1, 32, 2, 2]               0\n",
            "           Conv2d-63             [-1, 64, 2, 2]           2,112\n",
            "  TransitionBlock-64             [-1, 64, 2, 2]               0\n",
            "AdaptiveAvgPool2d-65             [-1, 64, 1, 1]               0\n",
            "           Linear-66                   [-1, 10]             650\n",
            "================================================================\n",
            "Total params: 167,594\n",
            "Trainable params: 167,594\n",
            "Non-trainable params: 0\n",
            "----------------------------------------------------------------\n",
            "Input size (MB): 0.01\n",
            "Forward/backward pass size (MB): 3.44\n",
            "Params size (MB): 0.64\n",
            "Estimated Total Size (MB): 4.09\n",
            "----------------------------------------------------------------\n"
          ]
        }
      ],
      "source": [
        "totalparams = summary(CIFARModel(num_classes=len(train_dataset.classes)).to(device),(3,32,32));totalparams"
      ]
    },
    {
      "cell_type": "code",
      "source": [
        "from torchsummary import summary\n",
        "summary(CIFARModel(num_classes=len(train_dataset.classes)).to(device),(3,32,32))"
      ],
      "metadata": {
        "colab": {
          "base_uri": "https://localhost:8080/"
        },
        "id": "ymquFdqQJnjb",
        "outputId": "f690bd23-025f-4516-ebd4-5cb9e54144f6"
      },
      "execution_count": 22,
      "outputs": [
        {
          "output_type": "stream",
          "name": "stdout",
          "text": [
            "----------------------------------------------------------------\n",
            "        Layer (type)               Output Shape         Param #\n",
            "================================================================\n",
            "            Conv2d-1           [-1, 64, 32, 32]           1,792\n",
            "       BatchNorm2d-2           [-1, 64, 32, 32]             128\n",
            "              ReLU-3           [-1, 64, 32, 32]               0\n",
            "            Conv2d-4           [-1, 64, 32, 32]          36,928\n",
            "       BatchNorm2d-5           [-1, 64, 32, 32]             128\n",
            "              ReLU-6           [-1, 64, 32, 32]               0\n",
            "            Conv2d-7           [-1, 64, 16, 16]             640\n",
            "            Conv2d-8           [-1, 64, 16, 16]           4,160\n",
            "       BatchNorm2d-9           [-1, 64, 16, 16]             128\n",
            "             ReLU-10           [-1, 64, 16, 16]               0\n",
            "DepthwiseSeparableConv2d-11           [-1, 64, 16, 16]               0\n",
            "      BatchNorm2d-12           [-1, 64, 16, 16]             128\n",
            "             ReLU-13           [-1, 64, 16, 16]               0\n",
            "        ConvBlock-14           [-1, 64, 16, 16]               0\n",
            "           Conv2d-15           [-1, 32, 16, 16]           2,080\n",
            "      BatchNorm2d-16           [-1, 32, 16, 16]              64\n",
            "             ReLU-17           [-1, 32, 16, 16]               0\n",
            "          Dropout-18           [-1, 32, 16, 16]               0\n",
            "  TransitionBlock-19           [-1, 32, 16, 16]               0\n",
            "           Conv2d-20           [-1, 64, 16, 16]          18,496\n",
            "      BatchNorm2d-21           [-1, 64, 16, 16]             128\n",
            "             ReLU-22           [-1, 64, 16, 16]               0\n",
            "           Conv2d-23           [-1, 64, 16, 16]          36,928\n",
            "      BatchNorm2d-24           [-1, 64, 16, 16]             128\n",
            "             ReLU-25           [-1, 64, 16, 16]               0\n",
            "           Conv2d-26             [-1, 64, 8, 8]          36,928\n",
            "      BatchNorm2d-27             [-1, 64, 8, 8]             128\n",
            "             ReLU-28             [-1, 64, 8, 8]               0\n",
            "        ConvBlock-29             [-1, 64, 8, 8]               0\n",
            "           Conv2d-30             [-1, 32, 8, 8]           2,080\n",
            "      BatchNorm2d-31             [-1, 32, 8, 8]              64\n",
            "             ReLU-32             [-1, 32, 8, 8]               0\n",
            "          Dropout-33             [-1, 32, 8, 8]               0\n",
            "  TransitionBlock-34             [-1, 32, 8, 8]               0\n",
            "           Conv2d-35             [-1, 64, 8, 8]          18,496\n",
            "      BatchNorm2d-36             [-1, 64, 8, 8]             128\n",
            "             ReLU-37             [-1, 64, 8, 8]               0\n",
            "           Conv2d-38             [-1, 64, 8, 8]          36,928\n",
            "      BatchNorm2d-39             [-1, 64, 8, 8]             128\n",
            "             ReLU-40             [-1, 64, 8, 8]               0\n",
            "           Conv2d-41             [-1, 64, 4, 4]          36,928\n",
            "      BatchNorm2d-42             [-1, 64, 4, 4]             128\n",
            "             ReLU-43             [-1, 64, 4, 4]               0\n",
            "        ConvBlock-44             [-1, 64, 4, 4]               0\n",
            "           Conv2d-45             [-1, 32, 4, 4]           2,080\n",
            "      BatchNorm2d-46             [-1, 32, 4, 4]              64\n",
            "             ReLU-47             [-1, 32, 4, 4]               0\n",
            "          Dropout-48             [-1, 32, 4, 4]               0\n",
            "  TransitionBlock-49             [-1, 32, 4, 4]               0\n",
            "           Conv2d-50             [-1, 64, 4, 4]          18,496\n",
            "      BatchNorm2d-51             [-1, 64, 4, 4]             128\n",
            "             ReLU-52             [-1, 64, 4, 4]               0\n",
            "           Conv2d-53             [-1, 64, 4, 4]          36,928\n",
            "      BatchNorm2d-54             [-1, 64, 4, 4]             128\n",
            "             ReLU-55             [-1, 64, 4, 4]               0\n",
            "    DilatedConv2d-56             [-1, 64, 4, 4]               0\n",
            "      BatchNorm2d-57             [-1, 64, 4, 4]             128\n",
            "             ReLU-58             [-1, 64, 4, 4]               0\n",
            "           Conv2d-59             [-1, 64, 2, 2]          36,928\n",
            "      BatchNorm2d-60             [-1, 64, 2, 2]             128\n",
            "             ReLU-61             [-1, 64, 2, 2]               0\n",
            "        ConvBlock-62             [-1, 64, 2, 2]               0\n",
            "           Conv2d-63             [-1, 64, 2, 2]           4,160\n",
            "  TransitionBlock-64             [-1, 64, 2, 2]               0\n",
            "AdaptiveAvgPool2d-65             [-1, 64, 1, 1]               0\n",
            "           Linear-66                   [-1, 10]             650\n",
            "================================================================\n",
            "Total params: 333,610\n",
            "Trainable params: 333,610\n",
            "Non-trainable params: 0\n",
            "----------------------------------------------------------------\n",
            "Input size (MB): 0.01\n",
            "Forward/backward pass size (MB): 5.59\n",
            "Params size (MB): 1.27\n",
            "Estimated Total Size (MB): 6.87\n",
            "----------------------------------------------------------------\n"
          ]
        }
      ]
    },
    {
      "cell_type": "markdown",
      "metadata": {
        "id": "J852kdrwwkuL"
      },
      "source": [
        "##  Parameters"
      ]
    },
    {
      "cell_type": "code",
      "execution_count": 38,
      "metadata": {
        "id": "VfLU3OGytkwA"
      },
      "outputs": [],
      "source": [
        "batch_size=32\n",
        "checkpoint = Path(\"./convnet/BEST_checkpoint.pt\")\n",
        "start_epoch = 0  # start at this epoch\n",
        "epochs = 50  # number of epochs to run without early-stopping\n",
        "epochs_since_improvement = 0  # number of epochs since there was an improvement in the validation metric\n",
        "best_loss = 100.  # assume a high loss at first\n",
        "workers = 4  # number of workers for loading data in the DataLoader\n",
        "lr = 0.01  # learning rate\n",
        "weight_decay = 1e-4  # weight decay\n",
        "n_classes = len(train_dataset.classes)"
      ]
    },
    {
      "cell_type": "markdown",
      "metadata": {
        "id": "hVcOsyhPymrV"
      },
      "source": [
        "## DataLoader"
      ]
    },
    {
      "cell_type": "code",
      "source": [],
      "metadata": {
        "id": "d0h6EsxQYuB-"
      },
      "execution_count": null,
      "outputs": []
    },
    {
      "cell_type": "code",
      "execution_count": 39,
      "metadata": {
        "id": "d701UneUylBt"
      },
      "outputs": [],
      "source": [
        "loader_param = { \"batch_size\":batch_size,\n",
        "                 \"pin_memory\":True,\n",
        "                 \"num_workers\":workers,\n",
        "                \"shuffle\":True}\n",
        "\n",
        "trainLoader = DataLoader(train_dataset,**loader_param)\n",
        "\n",
        "valLoader = DataLoader(test_dataset  ,**loader_param)\n"
      ]
    },
    {
      "cell_type": "markdown",
      "metadata": {
        "id": "aEfPR8LZ1f_N"
      },
      "source": [
        "## Averge Meter"
      ]
    },
    {
      "cell_type": "code",
      "execution_count": 40,
      "metadata": {
        "id": "FCpuPGJC09l4"
      },
      "outputs": [],
      "source": [
        "class AverageMeter(object):\n",
        "    \"\"\"\n",
        "    Keeps track of most recent, average, sum, and count of a metric.\n",
        "    \"\"\"\n",
        "\n",
        "    def __init__(self):\n",
        "        self.reset()\n",
        "\n",
        "    def reset(self):\n",
        "        self.val = 0\n",
        "        self.avg = 0\n",
        "        self.sum = 0\n",
        "        self.count = 0\n",
        "\n",
        "    def update(self, val, n=1):\n",
        "        self.val = val\n",
        "        self.sum += val * n\n",
        "        self.count += n\n",
        "        self.avg = self.sum / self.count"
      ]
    },
    {
      "cell_type": "code",
      "source": [
        "def l2_loss(model,l2_lambda = 0.01):\n",
        "\n",
        "  l2_reg = torch.tensor(0.)\n",
        "\n",
        "  for param in model.parameters():\n",
        "      l2_reg += torch.norm(param)\n",
        "\n",
        "  loss += l2_lambda * l2_reg\n",
        "  return loss\n"
      ],
      "metadata": {
        "id": "rizD2bKZWrCa"
      },
      "execution_count": 41,
      "outputs": []
    },
    {
      "cell_type": "code",
      "source": [
        "log_file_path = \"train.txt\""
      ],
      "metadata": {
        "id": "UvXHlz6_sUBj"
      },
      "execution_count": 27,
      "outputs": []
    },
    {
      "cell_type": "markdown",
      "metadata": {
        "id": "Nnkhq33F12o-"
      },
      "source": [
        "## Train method"
      ]
    },
    {
      "cell_type": "code",
      "execution_count": 42,
      "metadata": {
        "id": "AWlR5yB41iQB"
      },
      "outputs": [],
      "source": [
        "def train(train_loader, model, criterion, optimizer, epoch):\n",
        "    \"\"\"\n",
        "    One epoch's training.\n",
        "\n",
        "    :param train_loader: DataLoader for training data\n",
        "    :param model: model\n",
        "    :param criterion: CrossEntropy loss\n",
        "    :param optimizer :optimizer\n",
        "    :param epoch: epoch number\n",
        "    \"\"\"\n",
        "    model.train()  # training mode enables dropout\n",
        "\n",
        "    losses = AverageMeter()  # loss\n",
        "    accuracy = AverageMeter() # Accuracy meter\n",
        "\n",
        "    # Batches\n",
        "    for images, labels in train_loader:\n",
        "\n",
        "        optimizer.zero_grad()\n",
        "        # Move to default device\n",
        "        images = images.to(device)\n",
        "        labels = labels.to(device)\n",
        "\n",
        "        # Forward prop.\n",
        "        images = images.type(torch.float32)\n",
        "        output = model(images)\n",
        "        preds = torch.argmax(output,1)\n",
        "        # Loss\n",
        "        loss = criterion(output, labels)  # scalar\n",
        "\n",
        "        #l2 loss\n",
        "        # loss = loss + l2_loss(model)\n",
        "\n",
        "\n",
        "        loss.backward()\n",
        "\n",
        "\n",
        "        optimizer.step()\n",
        "\n",
        "        losses.update(loss.item(), images.shape[0])\n",
        "        accuracy.update(torch.sum(preds == labels.data).item())\n",
        "\n",
        "        # Print status\n",
        "    print(f\"TRAIN  Loss {losses.avg}\\t Accuracy {accuracy.sum/len(train_loader.dataset)}\")\n",
        "    with open(log_file_path, 'a') as f:\n",
        "        f.write(f\"TRAIN  Loss {losses.avg}\\t Accuracy {accuracy.sum/len(train_loader.dataset)}\\n\")\n",
        "    return losses.avg"
      ]
    },
    {
      "cell_type": "markdown",
      "metadata": {
        "id": "8Q24ZWFa30tN"
      },
      "source": [
        "## Validation method"
      ]
    },
    {
      "cell_type": "code",
      "execution_count": 43,
      "metadata": {
        "id": "0r6Ah7RE3z5Z"
      },
      "outputs": [],
      "source": [
        "@no_grad\n",
        "def validate(val_loader, model, criterion):\n",
        "    \"\"\"\n",
        "    One epoch's validation.\n",
        "\n",
        "    :param val_loader: DataLoader for training data\n",
        "    :param model: model\n",
        "    :param criterion: CrossEntropy loss\n",
        "    \"\"\"\n",
        "    model.eval()  # inference mode enables dropout\n",
        "\n",
        "    losses = AverageMeter()  # loss\n",
        "    accuracy = AverageMeter() # Accuracy meter\n",
        "\n",
        "    # Batches\n",
        "    for images, labels in val_loader:\n",
        "\n",
        "        # Move to default device\n",
        "        images = images.to(device)\n",
        "        labels = labels.to(device)\n",
        "\n",
        "        # Forward prop.\n",
        "        images = images.type(torch.float32)\n",
        "        output = model(images)\n",
        "        preds = torch.argmax(output,1)\n",
        "        # Loss\n",
        "        loss = criterion(output, labels)  # scalar\n",
        "\n",
        "        losses.update(loss.item(), images.shape[0])\n",
        "        accuracy.update(torch.sum(preds == labels.data).item())\n",
        "\n",
        "\n",
        "        # Print status\n",
        "    print(f\"VAL  Loss {losses.avg}\\t Accuracy {accuracy.sum/len(val_loader.dataset)}\")\n",
        "    with open(log_file_path, 'a') as f:\n",
        "        f.write(f\"VAL  Loss {losses.avg}\\t Accuracy {accuracy.sum/len(val_loader.dataset)}\\n\")\n",
        "    return losses.avg"
      ]
    },
    {
      "cell_type": "markdown",
      "metadata": {
        "id": "AgIH2LpH5E6Q"
      },
      "source": [
        "## Training"
      ]
    },
    {
      "cell_type": "code",
      "execution_count": 44,
      "metadata": {
        "id": "N3QjXX7A5AK2"
      },
      "outputs": [],
      "source": [
        "from tqdm import trange\n",
        "def main(epochs):\n",
        "  \"\"\"\n",
        "\n",
        "  Training and validation.\n",
        "  \"\"\"\n",
        "  global epochs_since_improvement, start_epoch, best_loss, checkpoint\n",
        "  model = CIFARModel(num_classes=n_classes)\n",
        "  model = model.to(device)\n",
        "\n",
        "  # specify loss function (categorical cross-entropy)\n",
        "  criterion = nn.CrossEntropyLoss()\n",
        "\n",
        "  # specify optimizer\n",
        "  optimizer = optim.SGD(model.parameters(), lr=lr,weight_decay=weight_decay,momentum=0.9,nesterov=True,dampening=0)\n",
        "  scheduler = lr_scheduler.ReduceLROnPlateau(optimizer, 'min',patience=4,min_lr=1e-5,verbose=True)\n",
        "\n",
        "  # Initialize model or load checkpoint\n",
        "  if checkpoint.exists():\n",
        "    checkpoint_dict = torch.load(checkpoint)\n",
        "    start_epoch = checkpoint_dict['epoch'] + 1\n",
        "    epochs_since_improvement = checkpoint_dict['epochs_since_improvement']\n",
        "    best_loss = checkpoint_dict['best_loss']\n",
        "\n",
        "    print('\\nLoaded checkpoint from epoch %d. Best loss so far is %.3f.\\n' % (start_epoch, best_loss))\n",
        "    model.load_state_dict(checkpoint_dict['model'])\n",
        "    optimizer.load_state_dict(checkpoint_dict['optimizer'])\n",
        "\n",
        "  # Epochs\n",
        "  for epoch in trange(start_epoch,start_epoch+epochs):\n",
        "      with open(log_file_path, 'a') as f:\n",
        "        f.write(f\"Epoch {epoch}\\n\")\n",
        "        f.write(f\"Current LR is {optimizer.param_groups[0]['lr']}\\n\")\n",
        "      print(\"Current LR is \" , optimizer.param_groups[0]['lr'])\n",
        "      # One epoch's training\n",
        "      train_loss = train(train_loader=trainLoader,\n",
        "                         model=model,\n",
        "                         criterion=criterion,\n",
        "                         optimizer=optimizer,\n",
        "                         epoch=epoch)\n",
        "\n",
        "      # One epoch's validation\n",
        "      val_loss = validate(val_loader=valLoader,\n",
        "                          model=model,\n",
        "                          criterion=criterion)\n",
        "      scheduler.step(val_loss)\n",
        "      # Did validation loss improve?\n",
        "      is_best = val_loss < best_loss\n",
        "      best_loss = min(val_loss, best_loss)\n",
        "\n",
        "      if not is_best:\n",
        "          epochs_since_improvement += 1\n",
        "          print(\"\\nEpochs since last improvement: %d\\n\" % (epochs_since_improvement,))\n",
        "          with open(log_file_path, 'a') as f:\n",
        "            f.write(f\"Epochs since last improvement: {epochs_since_improvement}\\n\")\n",
        "\n",
        "      else:\n",
        "          epochs_since_improvement = 0\n",
        "\n",
        "      # Save checkpoint\n",
        "      save_checkpoint(epoch, epochs_since_improvement, model, optimizer, train_loss, best_loss, is_best)\n",
        "  return model"
      ]
    },
    {
      "cell_type": "code",
      "execution_count": 45,
      "metadata": {
        "colab": {
          "base_uri": "https://localhost:8080/"
        },
        "id": "gKBs7y-Q8BHm",
        "outputId": "5835059e-533a-45b5-bc9a-26efb3917ee5"
      },
      "outputs": [
        {
          "output_type": "stream",
          "name": "stderr",
          "text": [
            "\r  0%|          | 0/50 [00:00<?, ?it/s]"
          ]
        },
        {
          "output_type": "stream",
          "name": "stdout",
          "text": [
            "Current LR is  0.01\n",
            "TRAIN  Loss 1.6041285824012756\t Accuracy 0.40718\n"
          ]
        },
        {
          "output_type": "stream",
          "name": "stderr",
          "text": [
            "\r  2%|▏         | 1/50 [00:36<29:42, 36.39s/it]"
          ]
        },
        {
          "output_type": "stream",
          "name": "stdout",
          "text": [
            "VAL  Loss 1.2907615394592284\t Accuracy 0.5312\n",
            "Current LR is  0.01\n",
            "TRAIN  Loss 1.233640305480957\t Accuracy 0.55682\n"
          ]
        },
        {
          "output_type": "stream",
          "name": "stderr",
          "text": [
            "\r  4%|▍         | 2/50 [01:13<29:19, 36.66s/it]"
          ]
        },
        {
          "output_type": "stream",
          "name": "stdout",
          "text": [
            "VAL  Loss 1.042762547683716\t Accuracy 0.6333\n",
            "Current LR is  0.01\n",
            "TRAIN  Loss 1.076411616344452\t Accuracy 0.61568\n"
          ]
        },
        {
          "output_type": "stream",
          "name": "stderr",
          "text": [
            "\r  6%|▌         | 3/50 [01:49<28:28, 36.36s/it]"
          ]
        },
        {
          "output_type": "stream",
          "name": "stdout",
          "text": [
            "VAL  Loss 0.9242414187908172\t Accuracy 0.6716\n",
            "Current LR is  0.01\n",
            "TRAIN  Loss 0.9800555849838257\t Accuracy 0.65458\n"
          ]
        },
        {
          "output_type": "stream",
          "name": "stderr",
          "text": [
            "\r  8%|▊         | 4/50 [02:26<28:12, 36.80s/it]"
          ]
        },
        {
          "output_type": "stream",
          "name": "stdout",
          "text": [
            "VAL  Loss 0.8720010380744934\t Accuracy 0.696\n",
            "Current LR is  0.01\n",
            "TRAIN  Loss 0.9025050667381287\t Accuracy 0.6861\n"
          ]
        },
        {
          "output_type": "stream",
          "name": "stderr",
          "text": [
            "\r 10%|█         | 5/50 [03:01<27:06, 36.15s/it]"
          ]
        },
        {
          "output_type": "stream",
          "name": "stdout",
          "text": [
            "VAL  Loss 0.7780911430358887\t Accuracy 0.7283\n",
            "Current LR is  0.01\n",
            "TRAIN  Loss 0.8455364087677002\t Accuracy 0.70686\n"
          ]
        },
        {
          "output_type": "stream",
          "name": "stderr",
          "text": [
            "\r 12%|█▏        | 6/50 [03:39<26:55, 36.71s/it]"
          ]
        },
        {
          "output_type": "stream",
          "name": "stdout",
          "text": [
            "VAL  Loss 0.7127250772476196\t Accuracy 0.7508\n",
            "Current LR is  0.01\n",
            "TRAIN  Loss 0.8054788405799865\t Accuracy 0.71822\n"
          ]
        },
        {
          "output_type": "stream",
          "name": "stderr",
          "text": [
            "\r 14%|█▍        | 7/50 [04:13<25:46, 35.97s/it]"
          ]
        },
        {
          "output_type": "stream",
          "name": "stdout",
          "text": [
            "VAL  Loss 0.7170844312191009\t Accuracy 0.7538\n",
            "\n",
            "Epochs since last improvement: 1\n",
            "\n",
            "Current LR is  0.01\n",
            "TRAIN  Loss 0.768030850162506\t Accuracy 0.73124\n"
          ]
        },
        {
          "output_type": "stream",
          "name": "stderr",
          "text": [
            "\r 16%|█▌        | 8/50 [04:51<25:28, 36.40s/it]"
          ]
        },
        {
          "output_type": "stream",
          "name": "stdout",
          "text": [
            "VAL  Loss 0.6691899203300476\t Accuracy 0.7645\n",
            "Current LR is  0.01\n",
            "TRAIN  Loss 0.7386505060005188\t Accuracy 0.74214\n"
          ]
        },
        {
          "output_type": "stream",
          "name": "stderr",
          "text": [
            "\r 18%|█▊        | 9/50 [05:25<24:23, 35.70s/it]"
          ]
        },
        {
          "output_type": "stream",
          "name": "stdout",
          "text": [
            "VAL  Loss 0.6565545334339142\t Accuracy 0.77\n",
            "Current LR is  0.01\n",
            "TRAIN  Loss 0.712555538187027\t Accuracy 0.75358\n"
          ]
        },
        {
          "output_type": "stream",
          "name": "stderr",
          "text": [
            "\r 20%|██        | 10/50 [05:59<23:29, 35.24s/it]"
          ]
        },
        {
          "output_type": "stream",
          "name": "stdout",
          "text": [
            "VAL  Loss 0.6414675449371338\t Accuracy 0.779\n",
            "Current LR is  0.01\n",
            "TRAIN  Loss 0.6892875838184357\t Accuracy 0.7619\n"
          ]
        },
        {
          "output_type": "stream",
          "name": "stderr",
          "text": [
            "\r 22%|██▏       | 11/50 [06:37<23:25, 36.04s/it]"
          ]
        },
        {
          "output_type": "stream",
          "name": "stdout",
          "text": [
            "VAL  Loss 0.6230244725704193\t Accuracy 0.7845\n",
            "Current LR is  0.01\n",
            "TRAIN  Loss 0.6674393397712708\t Accuracy 0.76864\n"
          ]
        },
        {
          "output_type": "stream",
          "name": "stderr",
          "text": [
            "\r 24%|██▍       | 12/50 [07:12<22:35, 35.68s/it]"
          ]
        },
        {
          "output_type": "stream",
          "name": "stdout",
          "text": [
            "VAL  Loss 0.6163057900428772\t Accuracy 0.7889\n",
            "Current LR is  0.01\n",
            "TRAIN  Loss 0.6523553461074829\t Accuracy 0.77292\n"
          ]
        },
        {
          "output_type": "stream",
          "name": "stderr",
          "text": [
            "\r 26%|██▌       | 13/50 [07:49<22:19, 36.20s/it]"
          ]
        },
        {
          "output_type": "stream",
          "name": "stdout",
          "text": [
            "VAL  Loss 0.599208554315567\t Accuracy 0.7935\n",
            "Current LR is  0.01\n",
            "TRAIN  Loss 0.6407487530136109\t Accuracy 0.77658\n"
          ]
        },
        {
          "output_type": "stream",
          "name": "stderr",
          "text": [
            "\r 28%|██▊       | 14/50 [08:24<21:22, 35.62s/it]"
          ]
        },
        {
          "output_type": "stream",
          "name": "stdout",
          "text": [
            "VAL  Loss 0.5636084974288941\t Accuracy 0.8028\n",
            "Current LR is  0.01\n",
            "TRAIN  Loss 0.6232011975765228\t Accuracy 0.7833\n"
          ]
        },
        {
          "output_type": "stream",
          "name": "stderr",
          "text": [
            "\r 30%|███       | 15/50 [09:00<20:59, 35.99s/it]"
          ]
        },
        {
          "output_type": "stream",
          "name": "stdout",
          "text": [
            "VAL  Loss 0.5849255882740021\t Accuracy 0.7954\n",
            "\n",
            "Epochs since last improvement: 1\n",
            "\n",
            "Current LR is  0.01\n",
            "TRAIN  Loss 0.6043130455207825\t Accuracy 0.79088\n"
          ]
        },
        {
          "output_type": "stream",
          "name": "stderr",
          "text": [
            "\r 32%|███▏      | 16/50 [09:37<20:29, 36.15s/it]"
          ]
        },
        {
          "output_type": "stream",
          "name": "stdout",
          "text": [
            "VAL  Loss 0.5500903619289398\t Accuracy 0.8114\n",
            "Current LR is  0.01\n",
            "TRAIN  Loss 0.6001115163230896\t Accuracy 0.79206\n"
          ]
        },
        {
          "output_type": "stream",
          "name": "stderr",
          "text": [
            "\r 34%|███▍      | 17/50 [10:13<19:56, 36.25s/it]"
          ]
        },
        {
          "output_type": "stream",
          "name": "stdout",
          "text": [
            "VAL  Loss 0.5679438338756562\t Accuracy 0.804\n",
            "\n",
            "Epochs since last improvement: 1\n",
            "\n",
            "Current LR is  0.01\n",
            "TRAIN  Loss 0.5870663322544097\t Accuracy 0.79522\n"
          ]
        },
        {
          "output_type": "stream",
          "name": "stderr",
          "text": [
            "\r 36%|███▌      | 18/50 [10:48<19:07, 35.87s/it]"
          ]
        },
        {
          "output_type": "stream",
          "name": "stdout",
          "text": [
            "VAL  Loss 0.568201684999466\t Accuracy 0.8069\n",
            "\n",
            "Epochs since last improvement: 2\n",
            "\n",
            "Current LR is  0.01\n",
            "TRAIN  Loss 0.5746941497707367\t Accuracy 0.80012\n"
          ]
        },
        {
          "output_type": "stream",
          "name": "stderr",
          "text": [
            "\r 38%|███▊      | 19/50 [11:24<18:26, 35.68s/it]"
          ]
        },
        {
          "output_type": "stream",
          "name": "stdout",
          "text": [
            "VAL  Loss 0.5312411558389664\t Accuracy 0.817\n",
            "Current LR is  0.01\n",
            "TRAIN  Loss 0.5662339028930664\t Accuracy 0.80238\n"
          ]
        },
        {
          "output_type": "stream",
          "name": "stderr",
          "text": [
            "\r 40%|████      | 20/50 [12:00<17:57, 35.90s/it]"
          ]
        },
        {
          "output_type": "stream",
          "name": "stdout",
          "text": [
            "VAL  Loss 0.5325842555999756\t Accuracy 0.8152\n",
            "\n",
            "Epochs since last improvement: 1\n",
            "\n",
            "Current LR is  0.01\n",
            "TRAIN  Loss 0.5616096709346772\t Accuracy 0.80692\n"
          ]
        },
        {
          "output_type": "stream",
          "name": "stderr",
          "text": [
            "\r 42%|████▏     | 21/50 [12:37<17:28, 36.17s/it]"
          ]
        },
        {
          "output_type": "stream",
          "name": "stdout",
          "text": [
            "VAL  Loss 0.523011389541626\t Accuracy 0.8203\n",
            "Current LR is  0.01\n",
            "TRAIN  Loss 0.5464039702320099\t Accuracy 0.81168\n"
          ]
        },
        {
          "output_type": "stream",
          "name": "stderr",
          "text": [
            "\r 44%|████▍     | 22/50 [13:14<17:01, 36.48s/it]"
          ]
        },
        {
          "output_type": "stream",
          "name": "stdout",
          "text": [
            "VAL  Loss 0.5551041973590851\t Accuracy 0.8111\n",
            "\n",
            "Epochs since last improvement: 1\n",
            "\n",
            "Current LR is  0.01\n",
            "TRAIN  Loss 0.5429338387727738\t Accuracy 0.81036\n"
          ]
        },
        {
          "output_type": "stream",
          "name": "stderr",
          "text": [
            "\r 46%|████▌     | 23/50 [13:49<16:12, 36.02s/it]"
          ]
        },
        {
          "output_type": "stream",
          "name": "stdout",
          "text": [
            "VAL  Loss 0.5471767036437988\t Accuracy 0.8105\n",
            "\n",
            "Epochs since last improvement: 2\n",
            "\n",
            "Current LR is  0.01\n",
            "TRAIN  Loss 0.5348291416358948\t Accuracy 0.81502\n"
          ]
        },
        {
          "output_type": "stream",
          "name": "stderr",
          "text": [
            "\r 48%|████▊     | 24/50 [14:27<15:51, 36.59s/it]"
          ]
        },
        {
          "output_type": "stream",
          "name": "stdout",
          "text": [
            "VAL  Loss 0.5457014312028885\t Accuracy 0.8157\n",
            "\n",
            "Epochs since last improvement: 3\n",
            "\n",
            "Current LR is  0.01\n",
            "TRAIN  Loss 0.5307323929023743\t Accuracy 0.81476\n"
          ]
        },
        {
          "output_type": "stream",
          "name": "stderr",
          "text": [
            "\r 50%|█████     | 25/50 [15:01<14:59, 35.97s/it]"
          ]
        },
        {
          "output_type": "stream",
          "name": "stdout",
          "text": [
            "VAL  Loss 0.5185973693132401\t Accuracy 0.8232\n",
            "Current LR is  0.01\n",
            "TRAIN  Loss 0.5243802192497253\t Accuracy 0.81674\n"
          ]
        },
        {
          "output_type": "stream",
          "name": "stderr",
          "text": [
            "\r 52%|█████▏    | 26/50 [15:39<14:34, 36.42s/it]"
          ]
        },
        {
          "output_type": "stream",
          "name": "stdout",
          "text": [
            "VAL  Loss 0.5846921971321106\t Accuracy 0.8014\n",
            "\n",
            "Epochs since last improvement: 1\n",
            "\n",
            "Current LR is  0.01\n",
            "TRAIN  Loss 0.5172052765464783\t Accuracy 0.82082\n"
          ]
        },
        {
          "output_type": "stream",
          "name": "stderr",
          "text": [
            "\r 54%|█████▍    | 27/50 [16:14<13:47, 35.96s/it]"
          ]
        },
        {
          "output_type": "stream",
          "name": "stdout",
          "text": [
            "VAL  Loss 0.49494389505386355\t Accuracy 0.8316\n",
            "Current LR is  0.01\n",
            "TRAIN  Loss 0.5071012854862214\t Accuracy 0.82532\n"
          ]
        },
        {
          "output_type": "stream",
          "name": "stderr",
          "text": [
            "\r 56%|█████▌    | 28/50 [16:48<13:00, 35.47s/it]"
          ]
        },
        {
          "output_type": "stream",
          "name": "stdout",
          "text": [
            "VAL  Loss 0.505732075047493\t Accuracy 0.8246\n",
            "\n",
            "Epochs since last improvement: 1\n",
            "\n",
            "Current LR is  0.01\n",
            "TRAIN  Loss 0.510009948129654\t Accuracy 0.82158\n"
          ]
        },
        {
          "output_type": "stream",
          "name": "stderr",
          "text": [
            "\r 58%|█████▊    | 29/50 [17:26<12:39, 36.16s/it]"
          ]
        },
        {
          "output_type": "stream",
          "name": "stdout",
          "text": [
            "VAL  Loss 0.5667343730926514\t Accuracy 0.8105\n",
            "\n",
            "Epochs since last improvement: 2\n",
            "\n",
            "Current LR is  0.01\n",
            "TRAIN  Loss 0.5018976910591125\t Accuracy 0.82652\n"
          ]
        },
        {
          "output_type": "stream",
          "name": "stderr",
          "text": [
            "\r 60%|██████    | 30/50 [18:00<11:53, 35.65s/it]"
          ]
        },
        {
          "output_type": "stream",
          "name": "stdout",
          "text": [
            "VAL  Loss 0.5200087031602859\t Accuracy 0.8246\n",
            "\n",
            "Epochs since last improvement: 3\n",
            "\n",
            "Current LR is  0.01\n",
            "TRAIN  Loss 0.49393806965351106\t Accuracy 0.82892\n"
          ]
        },
        {
          "output_type": "stream",
          "name": "stderr",
          "text": [
            "\r 62%|██████▏   | 31/50 [18:37<11:22, 35.93s/it]"
          ]
        },
        {
          "output_type": "stream",
          "name": "stdout",
          "text": [
            "VAL  Loss 0.5029621395587921\t Accuracy 0.8289\n",
            "\n",
            "Epochs since last improvement: 4\n",
            "\n",
            "Current LR is  0.01\n",
            "TRAIN  Loss 0.48522849235534665\t Accuracy 0.83166\n"
          ]
        },
        {
          "output_type": "stream",
          "name": "stderr",
          "text": [
            "\r 64%|██████▍   | 32/50 [19:12<10:43, 35.73s/it]"
          ]
        },
        {
          "output_type": "stream",
          "name": "stdout",
          "text": [
            "VAL  Loss 0.49001520910263063\t Accuracy 0.8334\n",
            "Current LR is  0.01\n",
            "TRAIN  Loss 0.48256886891365053\t Accuracy 0.8302\n"
          ]
        },
        {
          "output_type": "stream",
          "name": "stderr",
          "text": [
            "\r 66%|██████▌   | 33/50 [19:50<10:16, 36.26s/it]"
          ]
        },
        {
          "output_type": "stream",
          "name": "stdout",
          "text": [
            "VAL  Loss 0.501651637005806\t Accuracy 0.8276\n",
            "\n",
            "Epochs since last improvement: 1\n",
            "\n",
            "Current LR is  0.01\n",
            "TRAIN  Loss 0.4784299294042587\t Accuracy 0.83458\n"
          ]
        },
        {
          "output_type": "stream",
          "name": "stderr",
          "text": [
            "\r 68%|██████▊   | 34/50 [20:34<10:18, 38.63s/it]"
          ]
        },
        {
          "output_type": "stream",
          "name": "stdout",
          "text": [
            "VAL  Loss 0.45780752241611483\t Accuracy 0.8437\n",
            "Current LR is  0.01\n",
            "TRAIN  Loss 0.479046497964859\t Accuracy 0.83262\n"
          ]
        },
        {
          "output_type": "stream",
          "name": "stderr",
          "text": [
            "\r 70%|███████   | 35/50 [21:12<09:36, 38.41s/it]"
          ]
        },
        {
          "output_type": "stream",
          "name": "stdout",
          "text": [
            "VAL  Loss 0.4889437970161438\t Accuracy 0.8337\n",
            "\n",
            "Epochs since last improvement: 1\n",
            "\n",
            "Current LR is  0.01\n",
            "TRAIN  Loss 0.4733450896167755\t Accuracy 0.83772\n"
          ]
        },
        {
          "output_type": "stream",
          "name": "stderr",
          "text": [
            "\r 72%|███████▏  | 36/50 [21:48<08:49, 37.86s/it]"
          ]
        },
        {
          "output_type": "stream",
          "name": "stdout",
          "text": [
            "VAL  Loss 0.4807072458028793\t Accuracy 0.8371\n",
            "\n",
            "Epochs since last improvement: 2\n",
            "\n",
            "Current LR is  0.01\n",
            "TRAIN  Loss 0.46764462257385253\t Accuracy 0.83656\n"
          ]
        },
        {
          "output_type": "stream",
          "name": "stderr",
          "text": [
            "\r 74%|███████▍  | 37/50 [22:27<08:13, 37.98s/it]"
          ]
        },
        {
          "output_type": "stream",
          "name": "stdout",
          "text": [
            "VAL  Loss 0.4987393880844116\t Accuracy 0.8309\n",
            "\n",
            "Epochs since last improvement: 3\n",
            "\n",
            "Current LR is  0.01\n",
            "TRAIN  Loss 0.4614530029582977\t Accuracy 0.84\n"
          ]
        },
        {
          "output_type": "stream",
          "name": "stderr",
          "text": [
            "\r 76%|███████▌  | 38/50 [23:04<07:32, 37.67s/it]"
          ]
        },
        {
          "output_type": "stream",
          "name": "stdout",
          "text": [
            "VAL  Loss 0.4910694330692291\t Accuracy 0.8339\n",
            "\n",
            "Epochs since last improvement: 4\n",
            "\n",
            "Current LR is  0.01\n",
            "TRAIN  Loss 0.46188965663433074\t Accuracy 0.83896\n"
          ]
        },
        {
          "output_type": "stream",
          "name": "stderr",
          "text": [
            "\r 78%|███████▊  | 39/50 [23:40<06:51, 37.44s/it]"
          ]
        },
        {
          "output_type": "stream",
          "name": "stdout",
          "text": [
            "VAL  Loss 0.4987741990327835\t Accuracy 0.8319\n",
            "\n",
            "Epochs since last improvement: 5\n",
            "\n",
            "Current LR is  0.001\n",
            "TRAIN  Loss 0.3831477761673927\t Accuracy 0.86752\n"
          ]
        },
        {
          "output_type": "stream",
          "name": "stderr",
          "text": [
            "\r 80%|████████  | 40/50 [24:17<06:12, 37.26s/it]"
          ]
        },
        {
          "output_type": "stream",
          "name": "stdout",
          "text": [
            "VAL  Loss 0.4218045848369598\t Accuracy 0.8593\n",
            "Current LR is  0.001\n",
            "TRAIN  Loss 0.35952689958333967\t Accuracy 0.87546\n"
          ]
        },
        {
          "output_type": "stream",
          "name": "stderr",
          "text": [
            "\r 82%|████████▏ | 41/50 [24:53<05:31, 36.87s/it]"
          ]
        },
        {
          "output_type": "stream",
          "name": "stdout",
          "text": [
            "VAL  Loss 0.4166311945676804\t Accuracy 0.8616\n",
            "Current LR is  0.001\n",
            "TRAIN  Loss 0.3450040341091156\t Accuracy 0.87994\n"
          ]
        },
        {
          "output_type": "stream",
          "name": "stderr",
          "text": [
            "\r 84%|████████▍ | 42/50 [25:28<04:48, 36.10s/it]"
          ]
        },
        {
          "output_type": "stream",
          "name": "stdout",
          "text": [
            "VAL  Loss 0.41471768019199373\t Accuracy 0.862\n",
            "Current LR is  0.001\n",
            "TRAIN  Loss 0.3380955702829361\t Accuracy 0.8828\n"
          ]
        },
        {
          "output_type": "stream",
          "name": "stderr",
          "text": [
            "\r 86%|████████▌ | 43/50 [26:05<04:15, 36.44s/it]"
          ]
        },
        {
          "output_type": "stream",
          "name": "stdout",
          "text": [
            "VAL  Loss 0.41346522550582887\t Accuracy 0.8614\n",
            "Current LR is  0.001\n",
            "TRAIN  Loss 0.3345774479842186\t Accuracy 0.88576\n"
          ]
        },
        {
          "output_type": "stream",
          "name": "stderr",
          "text": [
            "\r 88%|████████▊ | 44/50 [26:39<03:34, 35.78s/it]"
          ]
        },
        {
          "output_type": "stream",
          "name": "stdout",
          "text": [
            "VAL  Loss 0.41017393980026245\t Accuracy 0.8616\n",
            "Current LR is  0.001\n",
            "TRAIN  Loss 0.3290896204948425\t Accuracy 0.8879\n"
          ]
        },
        {
          "output_type": "stream",
          "name": "stderr",
          "text": [
            "\r 90%|█████████ | 45/50 [27:13<02:56, 35.38s/it]"
          ]
        },
        {
          "output_type": "stream",
          "name": "stdout",
          "text": [
            "VAL  Loss 0.4102674934864044\t Accuracy 0.8628\n",
            "\n",
            "Epochs since last improvement: 1\n",
            "\n",
            "Current LR is  0.001\n",
            "TRAIN  Loss 0.32591309918403627\t Accuracy 0.8871\n"
          ]
        },
        {
          "output_type": "stream",
          "name": "stderr",
          "text": [
            "\r 92%|█████████▏| 46/50 [27:51<02:24, 36.16s/it]"
          ]
        },
        {
          "output_type": "stream",
          "name": "stdout",
          "text": [
            "VAL  Loss 0.4158686957359314\t Accuracy 0.8631\n",
            "\n",
            "Epochs since last improvement: 2\n",
            "\n",
            "Current LR is  0.001\n",
            "TRAIN  Loss 0.3256349574661255\t Accuracy 0.88754\n"
          ]
        },
        {
          "output_type": "stream",
          "name": "stderr",
          "text": [
            "\r 94%|█████████▍| 47/50 [28:26<01:47, 35.70s/it]"
          ]
        },
        {
          "output_type": "stream",
          "name": "stdout",
          "text": [
            "VAL  Loss 0.4133799375772476\t Accuracy 0.8619\n",
            "\n",
            "Epochs since last improvement: 3\n",
            "\n",
            "Current LR is  0.001\n",
            "TRAIN  Loss 0.3259429306173325\t Accuracy 0.88744\n"
          ]
        },
        {
          "output_type": "stream",
          "name": "stderr",
          "text": [
            "\r 96%|█████████▌| 48/50 [29:04<01:13, 36.52s/it]"
          ]
        },
        {
          "output_type": "stream",
          "name": "stdout",
          "text": [
            "VAL  Loss 0.4082137391090393\t Accuracy 0.8645\n",
            "Current LR is  0.001\n",
            "TRAIN  Loss 0.31725030925273895\t Accuracy 0.89148\n"
          ]
        },
        {
          "output_type": "stream",
          "name": "stderr",
          "text": [
            "\r 98%|█████████▊| 49/50 [29:39<00:35, 35.94s/it]"
          ]
        },
        {
          "output_type": "stream",
          "name": "stdout",
          "text": [
            "VAL  Loss 0.4085090480327606\t Accuracy 0.8662\n",
            "\n",
            "Epochs since last improvement: 1\n",
            "\n",
            "Current LR is  0.001\n",
            "TRAIN  Loss 0.31238633442640307\t Accuracy 0.89318\n"
          ]
        },
        {
          "output_type": "stream",
          "name": "stderr",
          "text": [
            "100%|██████████| 50/50 [30:15<00:00, 36.32s/it]"
          ]
        },
        {
          "output_type": "stream",
          "name": "stdout",
          "text": [
            "VAL  Loss 0.4110677458524704\t Accuracy 0.864\n",
            "\n",
            "Epochs since last improvement: 2\n",
            "\n"
          ]
        },
        {
          "output_type": "stream",
          "name": "stderr",
          "text": [
            "\n"
          ]
        }
      ],
      "source": [
        "model = main(epochs=epochs)"
      ]
    },
    {
      "cell_type": "markdown",
      "metadata": {
        "id": "8xTrT9ZsW3tl"
      },
      "source": [
        "## Per Class Accuracy"
      ]
    },
    {
      "cell_type": "code",
      "source": [
        "model = main(epochs=0)"
      ],
      "metadata": {
        "colab": {
          "base_uri": "https://localhost:8080/"
        },
        "id": "xaItVpSKYHSe",
        "outputId": "33c3d939-8d44-43da-dec2-52cf39e8b004"
      },
      "execution_count": 46,
      "outputs": [
        {
          "output_type": "stream",
          "name": "stderr",
          "text": [
            "<ipython-input-44-fd2c9331ff63>:20: FutureWarning: You are using `torch.load` with `weights_only=False` (the current default value), which uses the default pickle module implicitly. It is possible to construct malicious pickle data which will execute arbitrary code during unpickling (See https://github.com/pytorch/pytorch/blob/main/SECURITY.md#untrusted-models for more details). In a future release, the default value for `weights_only` will be flipped to `True`. This limits the functions that could be executed during unpickling. Arbitrary objects will no longer be allowed to be loaded via this mode unless they are explicitly allowlisted by the user via `torch.serialization.add_safe_globals`. We recommend you start setting `weights_only=True` for any use case where you don't have full control of the loaded file. Please open an issue on GitHub for any issues related to this experimental feature.\n",
            "  checkpoint_dict = torch.load(checkpoint)\n"
          ]
        },
        {
          "output_type": "stream",
          "name": "stdout",
          "text": [
            "\n",
            "Loaded checkpoint from epoch 48. Best loss so far is 0.408.\n",
            "\n"
          ]
        },
        {
          "output_type": "stream",
          "name": "stderr",
          "text": [
            "0it [00:00, ?it/s]\n"
          ]
        }
      ]
    },
    {
      "cell_type": "code",
      "execution_count": 47,
      "metadata": {
        "colab": {
          "base_uri": "https://localhost:8080/"
        },
        "id": "o_doCBc95tsc",
        "outputId": "0440e5b4-d243-4058-d9d0-4a4713731426"
      },
      "outputs": [
        {
          "output_type": "stream",
          "name": "stderr",
          "text": [
            "<ipython-input-44-fd2c9331ff63>:20: FutureWarning: You are using `torch.load` with `weights_only=False` (the current default value), which uses the default pickle module implicitly. It is possible to construct malicious pickle data which will execute arbitrary code during unpickling (See https://github.com/pytorch/pytorch/blob/main/SECURITY.md#untrusted-models for more details). In a future release, the default value for `weights_only` will be flipped to `True`. This limits the functions that could be executed during unpickling. Arbitrary objects will no longer be allowed to be loaded via this mode unless they are explicitly allowlisted by the user via `torch.serialization.add_safe_globals`. We recommend you start setting `weights_only=True` for any use case where you don't have full control of the loaded file. Please open an issue on GitHub for any issues related to this experimental feature.\n",
            "  checkpoint_dict = torch.load(checkpoint)\n"
          ]
        },
        {
          "output_type": "stream",
          "name": "stdout",
          "text": [
            "\n",
            "Loaded checkpoint from epoch 48. Best loss so far is 0.408.\n",
            "\n"
          ]
        },
        {
          "output_type": "stream",
          "name": "stderr",
          "text": [
            "0it [00:00, ?it/s]\n"
          ]
        },
        {
          "output_type": "stream",
          "name": "stdout",
          "text": [
            "airplane :- 86.5 %\n",
            "automobile :- 95.4 %\n",
            "bird :- 79.8 %\n",
            "cat :- 72.4 %\n",
            "deer :- 85.5 %\n",
            "dog :- 76.4 %\n",
            "frog :- 93.2 %\n",
            "horse :- 89.5 %\n",
            "ship :- 93.3 %\n",
            "truck :- 92.5 %\n",
            "total acc is 86.45%\n"
          ]
        }
      ],
      "source": [
        "## load the model\n",
        "@no_grad\n",
        "def perClassAccuracy(model , classes):\n",
        "  model = main(epochs=0)\n",
        "  class_correct = np.zeros(len(classes) ,dtype =np.int64 )\n",
        "  class_total = np.zeros_like(class_correct,dtype =np.int64 )\n",
        "  model.eval()\n",
        "\n",
        "  for data ,target in valLoader:\n",
        "    data,target =data.to(device) , target.to(device)\n",
        "    output =model(data)\n",
        "    preds = torch.argmax(output,1)\n",
        "    for prediction , label in zip(preds , target.data):\n",
        "      if prediction == label:\n",
        "        class_correct[prediction]+=1\n",
        "      class_total[label]+=1\n",
        "  per = np.round((100*class_correct/class_total) ,4)\n",
        "  out = \"\\n\".join([f\"{name} :- {acc} %\" for name ,acc in zip(classes , per)])\n",
        "  return out+\"\\ntotal acc is {0}%\".format(100* sum(class_correct)/sum(class_total))\n",
        "\n",
        "print(perClassAccuracy(model , train_dataset.classes))"
      ]
    },
    {
      "cell_type": "markdown",
      "metadata": {
        "id": "DPta6_MMYITo"
      },
      "source": [
        "## Intermediate Result :- Around 86 % Accuracy"
      ]
    },
    {
      "cell_type": "markdown",
      "metadata": {
        "id": "6Po0AJizYZiQ"
      },
      "source": [
        "## Visualizing the wrong prediction and where exactly model is confused"
      ]
    },
    {
      "cell_type": "code",
      "execution_count": 48,
      "metadata": {
        "colab": {
          "base_uri": "https://localhost:8080/"
        },
        "id": "DgKZUIg5XEIE",
        "outputId": "8e7c42e5-8a06-40d2-dea3-61f02d91c651"
      },
      "outputs": [
        {
          "output_type": "stream",
          "name": "stderr",
          "text": [
            "<ipython-input-44-fd2c9331ff63>:20: FutureWarning: You are using `torch.load` with `weights_only=False` (the current default value), which uses the default pickle module implicitly. It is possible to construct malicious pickle data which will execute arbitrary code during unpickling (See https://github.com/pytorch/pytorch/blob/main/SECURITY.md#untrusted-models for more details). In a future release, the default value for `weights_only` will be flipped to `True`. This limits the functions that could be executed during unpickling. Arbitrary objects will no longer be allowed to be loaded via this mode unless they are explicitly allowlisted by the user via `torch.serialization.add_safe_globals`. We recommend you start setting `weights_only=True` for any use case where you don't have full control of the loaded file. Please open an issue on GitHub for any issues related to this experimental feature.\n",
            "  checkpoint_dict = torch.load(checkpoint)\n"
          ]
        },
        {
          "output_type": "stream",
          "name": "stdout",
          "text": [
            "\n",
            "Loaded checkpoint from epoch 48. Best loss so far is 0.408.\n",
            "\n"
          ]
        },
        {
          "output_type": "stream",
          "name": "stderr",
          "text": [
            "0it [00:00, ?it/s]\n"
          ]
        }
      ],
      "source": [
        "## load the model\n",
        "model = main(epochs=0)\n",
        "@no_grad\n",
        "def allwrong_prediction(classes ,model):\n",
        "  test_array =[]\n",
        "  model.eval()\n",
        "  for data ,target in valLoader:\n",
        "    data,target =data.to(device) , target.to(device)\n",
        "    output =model(data)\n",
        "    preds = torch.argmax(output,1)\n",
        "    for prediction , label in zip(preds , target.data):\n",
        "      if prediction != label:\n",
        "          test_array.append([data ,classes[prediction] ,classes[label]])\n",
        "  return test_array\n",
        "\n",
        "s = allwrong_prediction(train_dataset.classes , model)"
      ]
    },
    {
      "cell_type": "code",
      "execution_count": 49,
      "metadata": {
        "colab": {
          "base_uri": "https://localhost:8080/",
          "height": 698
        },
        "id": "hFkM6VKsYsSR",
        "outputId": "6f83cde8-5f9d-4691-ac51-331a64fb096e"
      },
      "outputs": [
        {
          "output_type": "stream",
          "name": "stderr",
          "text": [
            "<ipython-input-49-1c08cd79ffd0>:4: DeprecationWarning: DataFrameGroupBy.apply operated on the grouping columns. This behavior is deprecated, and in a future version of pandas the grouping columns will be excluded from the operation. Either pass `include_groups=False` to exclude the groupings or explicitly select the grouping columns after groupby to silence this warning.\n",
            "  gr.apply(len).unstack().plot(kind='bar', stacked=True, figsize=(20,10))\n"
          ]
        },
        {
          "output_type": "execute_result",
          "data": {
            "text/plain": [
              "<Axes: xlabel='0'>"
            ]
          },
          "metadata": {},
          "execution_count": 49
        },
        {
          "output_type": "display_data",
          "data": {
            "text/plain": [
              "<Figure size 2000x1000 with 1 Axes>"
            ],
            "image/png": "[encoded data removed]"
          },
          "metadata": {}
        }
      ],
      "source": [
        "s_d = [(y,z) for x ,y,z in s]\n",
        "df = pd.DataFrame(s_d)\n",
        "gr = df.groupby([0,1])\n",
        "gr.apply(len).unstack().plot(kind='bar', stacked=True, figsize=(20,10))"
      ]
    },
    {
      "cell_type": "markdown",
      "metadata": {
        "id": "xXOZTOFwZnrF"
      },
      "source": [
        "## Inferencing Graph\n",
        " Model is confused between airplane,ship,bird"
      ]
    },
    {
      "cell_type": "markdown",
      "metadata": {
        "id": "bUz1APqvMVvy"
      },
      "source": [
        "## plot confusion matrix\n"
      ]
    },
    {
      "cell_type": "code",
      "execution_count": 52,
      "metadata": {
        "colab": {
          "base_uri": "https://localhost:8080/"
        },
        "id": "T-XRgz4Yj-uI",
        "outputId": "b26c3684-6ae0-43a1-8f2c-1e1fed08fd5e"
      },
      "outputs": [
        {
          "output_type": "stream",
          "name": "stderr",
          "text": [
            "/usr/local/lib/python3.10/dist-packages/torch/optim/lr_scheduler.py:62: UserWarning: The verbose parameter is deprecated. Please use get_last_lr() to access the learning rate.\n",
            "  warnings.warn(\n",
            "<ipython-input-44-fd2c9331ff63>:20: FutureWarning: You are using `torch.load` with `weights_only=False` (the current default value), which uses the default pickle module implicitly. It is possible to construct malicious pickle data which will execute arbitrary code during unpickling (See https://github.com/pytorch/pytorch/blob/main/SECURITY.md#untrusted-models for more details). In a future release, the default value for `weights_only` will be flipped to `True`. This limits the functions that could be executed during unpickling. Arbitrary objects will no longer be allowed to be loaded via this mode unless they are explicitly allowlisted by the user via `torch.serialization.add_safe_globals`. We recommend you start setting `weights_only=True` for any use case where you don't have full control of the loaded file. Please open an issue on GitHub for any issues related to this experimental feature.\n",
            "  checkpoint_dict = torch.load(checkpoint)\n"
          ]
        },
        {
          "output_type": "stream",
          "name": "stdout",
          "text": [
            "\n",
            "Loaded checkpoint from epoch 48. Best loss so far is 0.408.\n",
            "\n"
          ]
        },
        {
          "output_type": "stream",
          "name": "stderr",
          "text": [
            "0it [00:00, ?it/s]\n",
            "/usr/local/lib/python3.10/dist-packages/torch/utils/data/dataloader.py:617: UserWarning: This DataLoader will create 4 worker processes in total. Our suggested max number of worker in current system is 2, which is smaller than what this DataLoader is going to create. Please be aware that excessive worker creation might get DataLoader running slow or even freeze, lower the worker number to avoid potential slowness/freeze if necessary.\n",
            "  warnings.warn(\n"
          ]
        }
      ],
      "source": [
        "from sklearn.metrics import classification_report, confusion_matrix\n",
        "model = main(0)\n",
        "pred = []\n",
        "la=[]\n",
        "with torch.no_grad():\n",
        "  for image , label in valLoader:\n",
        "    image , label = image.to(device) , label.to(device)\n",
        "    output = model(image)\n",
        "    output = F.softmax(output,dim=1)\n",
        "    preds = torch.argmax(output,dim=1)\n",
        "    pred.extend(preds.clone().detach().cpu().tolist())\n",
        "    la.extend(label.clone().detach().cpu().tolist())\n"
      ]
    },
    {
      "cell_type": "code",
      "execution_count": 51,
      "metadata": {
        "colab": {
          "base_uri": "https://localhost:8080/",
          "height": 627
        },
        "id": "d1MalEP7kPYr",
        "outputId": "8b1a4ea8-387a-417c-ca52-e0967b00ca88"
      },
      "outputs": [
        {
          "output_type": "execute_result",
          "data": {
            "text/plain": [
              "<Axes: >"
            ]
          },
          "metadata": {},
          "execution_count": 51
        },
        {
          "output_type": "display_data",
          "data": {
            "text/plain": [
              "<Figure size 1000x700 with 2 Axes>"
            ],
            "image/png": "[encoded data removed]"
          },
          "metadata": {}
        }
      ],
      "source": [
        "cm = confusion_matrix(la,\n",
        "                      pred)\n",
        "\n",
        "# Visualizing of confusion matrix\n",
        "import seaborn as sn\n",
        "\n",
        "df_cm = pd.DataFrame(cm, range(10),\n",
        "                  range(10))\n",
        "plt.figure(figsize = (10,7))\n",
        "sn.set(font_scale=1.4)#for label size\n",
        "sn.heatmap(df_cm, annot=True,annot_kws={\"size\": 12})# font size"
      ]
    },
    {
      "cell_type": "markdown",
      "metadata": {
        "id": "EGiNpENNmF2J"
      },
      "source": [
        "## The END"
      ]
    },
    {
      "cell_type": "code",
      "execution_count": null,
      "metadata": {
        "id": "GTQNCTVmC98w"
      },
      "outputs": [],
      "source": []
    }
  ],
  "metadata": {
    "accelerator": "GPU",
    "colab": {
      "provenance": [],
      "gpuType": "T4"
    },
    "kernelspec": {
      "display_name": "Python 3",
      "name": "python3"
    },
    "language_info": {
      "codemirror_mode": {
        "name": "ipython",
        "version": 3
      },
      "file_extension": ".py",
      "mimetype": "text/x-python",
      "name": "python",
      "nbconvert_exporter": "python",
      "pygments_lexer": "ipython3",
      "version": "3.6.8"
    },
    "toc": {
      "base_numbering": 1,
      "nav_menu": {},
      "number_sections": true,
      "sideBar": true,
      "skip_h1_title": false,
      "title_cell": "Table of Contents",
      "title_sidebar": "Contents",
      "toc_cell": false,
      "toc_position": {},
      "toc_section_display": true,
      "toc_window_display": true
    }
  },
  "nbformat": 4,
  "nbformat_minor": 0
}